{
 "cells": [
  {
   "cell_type": "code",
   "execution_count": 1,
   "metadata": {},
   "outputs": [],
   "source": [
    "import warnings\n",
    "warnings.filterwarnings(action='ignore')\n",
    "import importlib\n",
    "import transformer_type\n",
    "from transformer_type.dataset import get_data\n",
    "import torch\n",
    "import pandas as pd\n",
    "\n",
    "if torch.cuda.is_available(): device = torch.device (\"cuda\")\n",
    "elif torch.backends.mps.is_available(): device = torch.device(\"mps\")\n",
    "else: device = torch.device('cpu')"
   ]
  },
  {
   "cell_type": "code",
   "execution_count": 2,
   "metadata": {},
   "outputs": [],
   "source": [
    "# params = [120, 1, 64, 300, 32, 512, 2, 1e-5, 0.1]\n",
    "params = {'input_window' : [120],\n",
    "         'pred_step' : [60, 90, 120, 150],\n",
    "         'batch_size' : [32],\n",
    "         'epochs' : [100],\n",
    "         'feature_size' : [32],\n",
    "         'd_ff' : [512],\n",
    "         'num_layers' : [2],\n",
    "         'lr' : [1e-4],\n",
    "         'device' : [device],\n",
    "         'dropout' : [0.1],\n",
    "         'is_save' : [True]}"
   ]
  },
  {
   "cell_type": "code",
   "execution_count": 3,
   "metadata": {},
   "outputs": [],
   "source": [
    "DATA_PATH = \"./data/kaggle_data/daily_data/\""
   ]
  },
  {
   "cell_type": "code",
   "execution_count": 4,
   "metadata": {},
   "outputs": [
    {
     "name": "stdout",
     "output_type": "stream",
     "text": [
      "PMJ_AEP 3922 889\n",
      "PMJ_COMED 2095 433\n",
      "PMJ_DAYTON 3922 889\n",
      "PMJ_DOM 3752 847\n",
      "PMJ_DUQ 3848 871\n",
      "PMJ_FE 1974 403\n",
      "PMJ_NI 1827 366\n",
      "PMJ_PJME 4725 1090\n",
      "PMJ_PJMW 4653 1072\n"
     ]
    }
   ],
   "source": [
    "\n",
    "# make dataset\n",
    "\n",
    "def data_extract(df_dict, df, name, cols):\n",
    "       for col in cols:\n",
    "              df_dict[f\"{name}_{col}\"] = df.loc[df[col] != 0, col]\n",
    "       return df_dict\n",
    "\n",
    "train_data_list = []\n",
    "val_data_list = []\n",
    "\n",
    "\n",
    "# rom_df = pd.read_csv(DATA_PATH + \"romania_elec_daily.csv\")\n",
    "# rom_cols = ['Consumption']\n",
    "pmj_df = pd.read_csv(DATA_PATH + \"pjm_elec_daily.csv\")\n",
    "pmj_cols = ['AEP', 'COMED', 'DAYTON', 'DOM', 'DUQ', 'FE', 'NI', 'PJME', 'PJMW'] # 'DEOK', 'EKPC', 'PJM_Load'\n",
    "\n",
    "# ind_df = pd.read_csv(DATA_PATH + \"india_elec_daily.csv\")\n",
    "# ind_cols = ['Punjab', 'Haryana', 'Rajasthan', 'Delhi', 'UP',\n",
    "#        'Uttarakhand', 'HP', 'J&K', 'Chandigarh', 'Chhattisgarh', 'Gujarat',\n",
    "#        'MP', 'Maharashtra', 'Goa', 'DNH', 'Andhra Pradesh', 'Telangana',\n",
    "#        'Karnataka', 'Kerala', 'Tamil Nadu', 'Pondy', 'Bihar', 'Jharkhand',\n",
    "#        'Odisha', 'West Bengal', 'Sikkim', 'Arunachal Pradesh', 'Assam',\n",
    "#        'Manipur', 'Meghalaya', 'Mizoram', 'Nagaland', 'Tripura']\n",
    "# mal_df = pd.read_csv(DATA_PATH + \"malaysia_elec_daily.csv\")\n",
    "# mal_cols = ['load']\n",
    "# tet_df = pd.read_csv(DATA_PATH + \"tetouan_elec_daily.csv\")\n",
    "# tet_cols = ['PowerConsumption_Zone1', 'PowerConsumption_Zone2', 'PowerConsumption_Zone3']\n",
    "# steel_df = pd.read_csv(DATA_PATH + \"steel_industry_elec_daily.csv\")\n",
    "# steel_cols = ['Usage_kWh']\n",
    "\n",
    "df_dict = {}\n",
    "\n",
    "# df_dict = data_extract(df_dict, rom_df, 'ROM', rom_cols)\n",
    "df_dict = data_extract(df_dict, pmj_df, 'PMJ', pmj_cols)\n",
    "\n",
    "# df_dict = data_extract(df_dict, mal_df, 'MAL', mal_cols)\n",
    "# df_dict = data_extract(df_dict, ind_df, 'IND', ind_cols)\n",
    "# df_dict = data_extract(df_dict, tet_df, 'TET', tet_cols)\n",
    "# df_dict = data_extract(df_dict, steel_df, 'STEEL', steel_cols)\n",
    "\n",
    "for df_name in df_dict:\n",
    "    df = df_dict[df_name]\n",
    "    train_data, val_data, scaler = get_data(df, params['input_window'][0], 1)\n",
    "    train_data = train_data.to(device)\n",
    "    val_data = val_data.to(device)\n",
    "    print(df_name, len(train_data), len(val_data))\n",
    "    train_data_list.append((train_data, df_name, scaler))\n",
    "    val_data_list.append((val_data, df_name, scaler))\n",
    "\n"
   ]
  },
  {
   "cell_type": "code",
   "execution_count": 5,
   "metadata": {},
   "outputs": [],
   "source": [
    "cnt = 0\n",
    "total = 1\n",
    "best_models, models = None, None\n",
    "for param in params:\n",
    "    total *= len(params[param])\n",
    "\n",
    "\n",
    "def select_param(params, param_names, selected_params=[], param_idx=0):\n",
    "    if param_idx == len(params):\n",
    "        global best_models, models\n",
    "        importlib.reload(transformer_type)\n",
    "        from transformer_type.transformer_multistep_type import train_start\n",
    "        torch.cuda.empty_cache()\n",
    "        global cnt\n",
    "        cnt += 1\n",
    "        print(f\"Start training ({cnt} / {total})\")\n",
    "        for param_name, params in zip(param_names, selected_params):\n",
    "            print(f\"{param_name} : {params}\", end= ' | ')\n",
    "        print()\n",
    "        selected_params = [train_data_list, val_data_list] + selected_params\n",
    "        best_models, models = train_start(*selected_params)\n",
    "        return\n",
    "    \n",
    "    param_name = param_names[param_idx]\n",
    "    param_list = params[param_name]\n",
    "    for parameter in param_list:\n",
    "        select_param(params, param_names, selected_params + [parameter], param_idx + 1)\n"
   ]
  },
  {
   "cell_type": "code",
   "execution_count": 6,
   "metadata": {},
   "outputs": [
    {
     "name": "stderr",
     "output_type": "stream",
     "text": [
      "Failed to detect the name of this notebook, you can set it manually with the WANDB_NOTEBOOK_NAME environment variable to enable code saving.\n"
     ]
    },
    {
     "name": "stdout",
     "output_type": "stream",
     "text": [
      "Start training (1 / 4)\n",
      "input_window : 120 | pred_step : 60 | batch_size : 32 | epochs : 100 | feature_size : 32 | d_ff : 512 | num_layers : 2 | lr : 0.0001 | device : cuda | dropout : 0.1 | is_save : True | \n"
     ]
    },
    {
     "name": "stderr",
     "output_type": "stream",
     "text": [
      "\u001b[34m\u001b[1mwandb\u001b[0m: Currently logged in as: \u001b[33mqja1998\u001b[0m. Use \u001b[1m`wandb login --relogin`\u001b[0m to force relogin\n"
     ]
    },
    {
     "data": {
      "text/html": [
       "wandb version 0.16.1 is available!  To upgrade, please run:\n",
       " $ pip install wandb --upgrade"
      ],
      "text/plain": [
       "<IPython.core.display.HTML object>"
      ]
     },
     "metadata": {},
     "output_type": "display_data"
    },
    {
     "data": {
      "text/html": [
       "Tracking run with wandb version 0.15.12"
      ],
      "text/plain": [
       "<IPython.core.display.HTML object>"
      ]
     },
     "metadata": {},
     "output_type": "display_data"
    },
    {
     "data": {
      "text/html": [
       "Run data is saved locally in <code>c:\\Users\\qja19\\Desktop\\탄소\\machine_learning\\wandb\\run-20231223_145336-b9ieggiy</code>"
      ],
      "text/plain": [
       "<IPython.core.display.HTML object>"
      ]
     },
     "metadata": {},
     "output_type": "display_data"
    },
    {
     "data": {
      "text/html": [
       "Syncing run <strong><a href='https://wandb.ai/qja1998/co2%20emission%20forecasting/runs/b9ieggiy' target=\"_blank\">fluent-plant-158</a></strong> to <a href='https://wandb.ai/qja1998/co2%20emission%20forecasting' target=\"_blank\">Weights & Biases</a> (<a href='https://wandb.me/run' target=\"_blank\">docs</a>)<br/>"
      ],
      "text/plain": [
       "<IPython.core.display.HTML object>"
      ]
     },
     "metadata": {},
     "output_type": "display_data"
    },
    {
     "data": {
      "text/html": [
       " View project at <a href='https://wandb.ai/qja1998/co2%20emission%20forecasting' target=\"_blank\">https://wandb.ai/qja1998/co2%20emission%20forecasting</a>"
      ],
      "text/plain": [
       "<IPython.core.display.HTML object>"
      ]
     },
     "metadata": {},
     "output_type": "display_data"
    },
    {
     "data": {
      "text/html": [
       " View run at <a href='https://wandb.ai/qja1998/co2%20emission%20forecasting/runs/b9ieggiy' target=\"_blank\">https://wandb.ai/qja1998/co2%20emission%20forecasting/runs/b9ieggiy</a>"
      ],
      "text/plain": [
       "<IPython.core.display.HTML object>"
      ]
     },
     "metadata": {},
     "output_type": "display_data"
    },
    {
     "name": "stderr",
     "output_type": "stream",
     "text": [
      "\u001b[34m\u001b[1mwandb\u001b[0m: \u001b[33mWARNING\u001b[0m Calling wandb.run.save without any arguments is deprecated.Changes to attributes are automatically persisted.\n",
      "100%|██████████| 100/100 [12:07<00:00,  7.28s/it]"
     ]
    },
    {
     "name": "stdout",
     "output_type": "stream",
     "text": [
      "Start training (2 / 4)\n",
      "input_window : 120 | pred_step : 90 | batch_size : 32 | epochs : 100 | feature_size : 32 | d_ff : 512 | num_layers : 2 | lr : 0.0001 | device : cuda | dropout : 0.1 | is_save : True | \n"
     ]
    },
    {
     "name": "stderr",
     "output_type": "stream",
     "text": [
      "\n"
     ]
    },
    {
     "data": {
      "text/html": [
       "Finishing last run (ID:b9ieggiy) before initializing another..."
      ],
      "text/plain": [
       "<IPython.core.display.HTML object>"
      ]
     },
     "metadata": {},
     "output_type": "display_data"
    },
    {
     "data": {
      "text/html": [
       "Waiting for W&B process to finish... <strong style=\"color:green\">(success).</strong>"
      ],
      "text/plain": [
       "<IPython.core.display.HTML object>"
      ]
     },
     "metadata": {},
     "output_type": "display_data"
    },
    {
     "data": {
      "application/vnd.jupyter.widget-view+json": {
       "model_id": "0089ee6bd75c4d7d9f3bfb437e876052",
       "version_major": 2,
       "version_minor": 0
      },
      "text/plain": [
       "VBox(children=(Label(value='0.001 MB of 0.001 MB uploaded (0.000 MB deduped)\\r'), FloatProgress(value=1.0, max…"
      ]
     },
     "metadata": {},
     "output_type": "display_data"
    },
    {
     "data": {
      "text/html": [
       "<style>\n",
       "    table.wandb td:nth-child(1) { padding: 0 10px; text-align: left ; width: auto;} td:nth-child(2) {text-align: left ; width: 100%}\n",
       "    .wandb-row { display: flex; flex-direction: row; flex-wrap: wrap; justify-content: flex-start; width: 100% }\n",
       "    .wandb-col { display: flex; flex-direction: column; flex-basis: 100%; flex: 1; padding: 10px; }\n",
       "    </style>\n",
       "<div class=\"wandb-row\"><div class=\"wandb-col\"><h3>Run history:</h3><br/><table class=\"wandb\"><tr><td>pred_MAE</td><td>▁▁▂▄▄▆▆▇▇█</td></tr><tr><td>pred_MSE</td><td>▁▂▃▄▅▆▇▇▇█</td></tr><tr><td>pred_SMAPE</td><td>▆▆█▆▁▁▂▃▄▆</td></tr><tr><td>val_loss_PMJ_AEP</td><td>██▇▇▆▅▄▄▃▃▃▃▃▃▃▃▃▂▂▂▂▂▂▂▂▂▂▂▂▁▁▁▁▁▁▁▁▁▁▁</td></tr><tr><td>val_loss_PMJ_COMED</td><td>████▇▇▇▆▆▆▆▆▅▅▅▄▄▄▃▃▃▃▃▂▃▂▂▂▂▂▂▂▂▂▂▂▂▁▁▁</td></tr><tr><td>val_loss_PMJ_DAYTON</td><td>████▇▇▇▆▅▅▅▄▄▄▄▄▃▃▃▂▂▂▂▂▂▂▂▂▂▂▁▁▁▁▁▁▁▁▁▁</td></tr><tr><td>val_loss_PMJ_DOM</td><td>████▇▆▅▅▅▄▄▄▄▄▄▄▄▃▃▃▂▂▂▂▂▂▂▂▂▁▁▁▁▁▁▁▁▁▁▁</td></tr><tr><td>val_loss_PMJ_DUQ</td><td>█▇█▇▆▅▃▃▂▂▂▂▂▂▂▂▂▁▁▁▁▂▁▁▁▁▁▁▁▁▁▁▁▁▁▁▁▁▁▁</td></tr><tr><td>val_loss_PMJ_FE</td><td>█▇▇▇▇▇▇▇▆▆▅▅█▇▆▅▆▅▅▄▄▃▂▂▄▃▂▂▂▂▂▁▃▂▂▂▂▁▁▁</td></tr><tr><td>val_loss_PMJ_NI</td><td>███▇█▇▇▇▇▇▇▆▆▆▅▅▄▄▃▃▃▂▂▂▂▂▂▂▁▁▁▁▁▁▁▁▁▁▁▁</td></tr><tr><td>val_loss_PMJ_PJME</td><td>██▇▅▅▄▄▃▃▃▃▂▂▂▂▂▂▂▂▂▂▂▂▂▁▁▁▁▁▁▁▁▁▁▁▁▁▁▁▁</td></tr><tr><td>val_loss_PMJ_PJMW</td><td>████▇▆▄▄▄▃▃▃▃▃▃▂▃▂▂▂▂▂▂▂▂▂▂▂▁▁▁▁▁▁▁▁▁▁▁▁</td></tr><tr><td>val_loss_total</td><td>███▇▇▆▅▅▄▄▄▄▄▄▃▃▃▃▃▂▂▂▂▂▂▂▂▂▁▂▁▁▁▁▁▁▁▁▁▁</td></tr></table><br/></div><div class=\"wandb-col\"><h3>Run summary:</h3><br/><table class=\"wandb\"><tr><td>pred_MAE</td><td>0.15931</td></tr><tr><td>pred_MSE</td><td>0.04041</td></tr><tr><td>pred_SMAPE</td><td>0.01566</td></tr><tr><td>val_loss_PMJ_AEP</td><td>0.00196</td></tr><tr><td>val_loss_PMJ_COMED</td><td>0.00244</td></tr><tr><td>val_loss_PMJ_DAYTON</td><td>0.00248</td></tr><tr><td>val_loss_PMJ_DOM</td><td>0.00286</td></tr><tr><td>val_loss_PMJ_DUQ</td><td>0.0022</td></tr><tr><td>val_loss_PMJ_FE</td><td>0.00383</td></tr><tr><td>val_loss_PMJ_NI</td><td>0.00403</td></tr><tr><td>val_loss_PMJ_PJME</td><td>0.00206</td></tr><tr><td>val_loss_PMJ_PJMW</td><td>0.00285</td></tr><tr><td>val_loss_total</td><td>0.00275</td></tr></table><br/></div></div>"
      ],
      "text/plain": [
       "<IPython.core.display.HTML object>"
      ]
     },
     "metadata": {},
     "output_type": "display_data"
    },
    {
     "data": {
      "text/html": [
       " View run <strong style=\"color:#cdcd00\">fluent-plant-158</strong> at: <a href='https://wandb.ai/qja1998/co2%20emission%20forecasting/runs/b9ieggiy' target=\"_blank\">https://wandb.ai/qja1998/co2%20emission%20forecasting/runs/b9ieggiy</a><br/>Synced 6 W&B file(s), 0 media file(s), 0 artifact file(s) and 0 other file(s)"
      ],
      "text/plain": [
       "<IPython.core.display.HTML object>"
      ]
     },
     "metadata": {},
     "output_type": "display_data"
    },
    {
     "data": {
      "text/html": [
       "Find logs at: <code>.\\wandb\\run-20231223_145336-b9ieggiy\\logs</code>"
      ],
      "text/plain": [
       "<IPython.core.display.HTML object>"
      ]
     },
     "metadata": {},
     "output_type": "display_data"
    },
    {
     "data": {
      "text/html": [
       "Successfully finished last run (ID:b9ieggiy). Initializing new run:<br/>"
      ],
      "text/plain": [
       "<IPython.core.display.HTML object>"
      ]
     },
     "metadata": {},
     "output_type": "display_data"
    },
    {
     "data": {
      "application/vnd.jupyter.widget-view+json": {
       "model_id": "041c66d34776463bba8078dbe4d10e12",
       "version_major": 2,
       "version_minor": 0
      },
      "text/plain": [
       "VBox(children=(Label(value='Waiting for wandb.init()...\\r'), FloatProgress(value=0.011277777777932999, max=1.0…"
      ]
     },
     "metadata": {},
     "output_type": "display_data"
    },
    {
     "data": {
      "text/html": [
       "wandb version 0.16.1 is available!  To upgrade, please run:\n",
       " $ pip install wandb --upgrade"
      ],
      "text/plain": [
       "<IPython.core.display.HTML object>"
      ]
     },
     "metadata": {},
     "output_type": "display_data"
    },
    {
     "data": {
      "text/html": [
       "Tracking run with wandb version 0.15.12"
      ],
      "text/plain": [
       "<IPython.core.display.HTML object>"
      ]
     },
     "metadata": {},
     "output_type": "display_data"
    },
    {
     "data": {
      "text/html": [
       "Run data is saved locally in <code>c:\\Users\\qja19\\Desktop\\탄소\\machine_learning\\wandb\\run-20231223_150549-umda3gh6</code>"
      ],
      "text/plain": [
       "<IPython.core.display.HTML object>"
      ]
     },
     "metadata": {},
     "output_type": "display_data"
    },
    {
     "data": {
      "text/html": [
       "Syncing run <strong><a href='https://wandb.ai/qja1998/co2%20emission%20forecasting/runs/umda3gh6' target=\"_blank\">celestial-aardvark-159</a></strong> to <a href='https://wandb.ai/qja1998/co2%20emission%20forecasting' target=\"_blank\">Weights & Biases</a> (<a href='https://wandb.me/run' target=\"_blank\">docs</a>)<br/>"
      ],
      "text/plain": [
       "<IPython.core.display.HTML object>"
      ]
     },
     "metadata": {},
     "output_type": "display_data"
    },
    {
     "data": {
      "text/html": [
       " View project at <a href='https://wandb.ai/qja1998/co2%20emission%20forecasting' target=\"_blank\">https://wandb.ai/qja1998/co2%20emission%20forecasting</a>"
      ],
      "text/plain": [
       "<IPython.core.display.HTML object>"
      ]
     },
     "metadata": {},
     "output_type": "display_data"
    },
    {
     "data": {
      "text/html": [
       " View run at <a href='https://wandb.ai/qja1998/co2%20emission%20forecasting/runs/umda3gh6' target=\"_blank\">https://wandb.ai/qja1998/co2%20emission%20forecasting/runs/umda3gh6</a>"
      ],
      "text/plain": [
       "<IPython.core.display.HTML object>"
      ]
     },
     "metadata": {},
     "output_type": "display_data"
    },
    {
     "name": "stderr",
     "output_type": "stream",
     "text": [
      "100%|██████████| 100/100 [12:17<00:00,  7.37s/it]"
     ]
    },
    {
     "name": "stdout",
     "output_type": "stream",
     "text": [
      "Start training (3 / 4)\n",
      "input_window : 120 | pred_step : 120 | batch_size : 32 | epochs : 100 | feature_size : 32 | d_ff : 512 | num_layers : 2 | lr : 0.0001 | device : cuda | dropout : 0.1 | is_save : True | \n"
     ]
    },
    {
     "name": "stderr",
     "output_type": "stream",
     "text": [
      "\n"
     ]
    },
    {
     "data": {
      "text/html": [
       "Finishing last run (ID:umda3gh6) before initializing another..."
      ],
      "text/plain": [
       "<IPython.core.display.HTML object>"
      ]
     },
     "metadata": {},
     "output_type": "display_data"
    },
    {
     "data": {
      "text/html": [
       "Waiting for W&B process to finish... <strong style=\"color:green\">(success).</strong>"
      ],
      "text/plain": [
       "<IPython.core.display.HTML object>"
      ]
     },
     "metadata": {},
     "output_type": "display_data"
    },
    {
     "data": {
      "text/html": [
       "<style>\n",
       "    table.wandb td:nth-child(1) { padding: 0 10px; text-align: left ; width: auto;} td:nth-child(2) {text-align: left ; width: 100%}\n",
       "    .wandb-row { display: flex; flex-direction: row; flex-wrap: wrap; justify-content: flex-start; width: 100% }\n",
       "    .wandb-col { display: flex; flex-direction: column; flex-basis: 100%; flex: 1; padding: 10px; }\n",
       "    </style>\n",
       "<div class=\"wandb-row\"><div class=\"wandb-col\"><h3>Run history:</h3><br/><table class=\"wandb\"><tr><td>pred_MAE</td><td>▁▁▂▄▅▆▇▇██</td></tr><tr><td>pred_MSE</td><td>▁▁▃▄▅▅▆▇▇█</td></tr><tr><td>pred_SMAPE</td><td>█▇▄▃▂▂▁▁▁▁</td></tr><tr><td>val_loss_PMJ_AEP</td><td>████▆▄▄▃▃▃▃▃▃▂▂▂▂▂▂▂▂▂▂▂▁▁▁▁▁▁▁▁▁▁▁▁▁▁▁▁</td></tr><tr><td>val_loss_PMJ_COMED</td><td>██▇████▇▇▆▄▄▃▃▂▃▃▃▂▂▂▂▂▂▂▂▂▂▂▁▁▂▁▁▁▁▁▁▁▁</td></tr><tr><td>val_loss_PMJ_DAYTON</td><td>████▇▆▄▄▃▃▃▃▂▂▂▂▂▂▂▂▂▂▂▁▂▁▁▁▁▁▁▁▁▁▁▁▁▁▁▁</td></tr><tr><td>val_loss_PMJ_DOM</td><td>██▇▅▄▄▄▄▄▄▃▃▃▃▃▃▃▂▂▂▂▂▂▁▁▁▁▁▁▁▁▁▁▁▁▁▁▁▁▁</td></tr><tr><td>val_loss_PMJ_DUQ</td><td>█████▇▅▄▃▃▂▂▂▂▂▂▂▂▂▂▂▁▁▁▁▁▁▁▁▁▁▁▁▁▁▁▁▁▁▁</td></tr><tr><td>val_loss_PMJ_FE</td><td>█▇▇▆▆▆▆▅▅▄▅▆▅▅▅▆▄▄▅▅▄▃▄▄▅▄▅▄▂▃▃▄▂▂▃▂▂▁▂▁</td></tr><tr><td>val_loss_PMJ_NI</td><td>▇▇████▇▇█▇▇▇▆▆▅▄▃▂▂▂▂▂▂▂▂▂▂▁▁▁▁▁▁▁▁▁▁▁▁▁</td></tr><tr><td>val_loss_PMJ_PJME</td><td>▇██▇▄▄▃▃▃▂▂▂▂▂▂▂▂▂▂▂▁▁▁▁▁▁▁▁▁▁▁▁▁▁▁▁▁▁▁▁</td></tr><tr><td>val_loss_PMJ_PJMW</td><td>██▇▆▃▃▃▃▃▃▃▃▃▃▂▂▂▂▂▂▂▂▂▂▂▂▂▂▁▁▁▁▁▁▁▁▁▁▁▁</td></tr><tr><td>val_loss_total</td><td>███▇▆▆▅▅▄▄▄▃▃▃▃▃▂▂▂▂▂▂▂▂▂▂▂▁▁▁▁▁▁▁▁▁▁▁▁▁</td></tr></table><br/></div><div class=\"wandb-col\"><h3>Run summary:</h3><br/><table class=\"wandb\"><tr><td>pred_MAE</td><td>0.20603</td></tr><tr><td>pred_MSE</td><td>0.05794</td></tr><tr><td>pred_SMAPE</td><td>0.00692</td></tr><tr><td>val_loss_PMJ_AEP</td><td>0.00189</td></tr><tr><td>val_loss_PMJ_COMED</td><td>0.00321</td></tr><tr><td>val_loss_PMJ_DAYTON</td><td>0.0026</td></tr><tr><td>val_loss_PMJ_DOM</td><td>0.0037</td></tr><tr><td>val_loss_PMJ_DUQ</td><td>0.00226</td></tr><tr><td>val_loss_PMJ_FE</td><td>0.0047</td></tr><tr><td>val_loss_PMJ_NI</td><td>0.00317</td></tr><tr><td>val_loss_PMJ_PJME</td><td>0.00225</td></tr><tr><td>val_loss_PMJ_PJMW</td><td>0.00488</td></tr><tr><td>val_loss_total</td><td>0.00318</td></tr></table><br/></div></div>"
      ],
      "text/plain": [
       "<IPython.core.display.HTML object>"
      ]
     },
     "metadata": {},
     "output_type": "display_data"
    },
    {
     "data": {
      "text/html": [
       " View run <strong style=\"color:#cdcd00\">celestial-aardvark-159</strong> at: <a href='https://wandb.ai/qja1998/co2%20emission%20forecasting/runs/umda3gh6' target=\"_blank\">https://wandb.ai/qja1998/co2%20emission%20forecasting/runs/umda3gh6</a><br/>Synced 6 W&B file(s), 0 media file(s), 0 artifact file(s) and 0 other file(s)"
      ],
      "text/plain": [
       "<IPython.core.display.HTML object>"
      ]
     },
     "metadata": {},
     "output_type": "display_data"
    },
    {
     "data": {
      "text/html": [
       "Find logs at: <code>.\\wandb\\run-20231223_150549-umda3gh6\\logs</code>"
      ],
      "text/plain": [
       "<IPython.core.display.HTML object>"
      ]
     },
     "metadata": {},
     "output_type": "display_data"
    },
    {
     "data": {
      "text/html": [
       "Successfully finished last run (ID:umda3gh6). Initializing new run:<br/>"
      ],
      "text/plain": [
       "<IPython.core.display.HTML object>"
      ]
     },
     "metadata": {},
     "output_type": "display_data"
    },
    {
     "data": {
      "application/vnd.jupyter.widget-view+json": {
       "model_id": "7c08a0e007cb48f98c53cd12d0f2b29b",
       "version_major": 2,
       "version_minor": 0
      },
      "text/plain": [
       "VBox(children=(Label(value='Waiting for wandb.init()...\\r'), FloatProgress(value=0.011111111111111112, max=1.0…"
      ]
     },
     "metadata": {},
     "output_type": "display_data"
    },
    {
     "data": {
      "text/html": [
       "wandb version 0.16.1 is available!  To upgrade, please run:\n",
       " $ pip install wandb --upgrade"
      ],
      "text/plain": [
       "<IPython.core.display.HTML object>"
      ]
     },
     "metadata": {},
     "output_type": "display_data"
    },
    {
     "data": {
      "text/html": [
       "Tracking run with wandb version 0.15.12"
      ],
      "text/plain": [
       "<IPython.core.display.HTML object>"
      ]
     },
     "metadata": {},
     "output_type": "display_data"
    },
    {
     "data": {
      "text/html": [
       "Run data is saved locally in <code>c:\\Users\\qja19\\Desktop\\탄소\\machine_learning\\wandb\\run-20231223_151820-w1r5met8</code>"
      ],
      "text/plain": [
       "<IPython.core.display.HTML object>"
      ]
     },
     "metadata": {},
     "output_type": "display_data"
    },
    {
     "data": {
      "text/html": [
       "Syncing run <strong><a href='https://wandb.ai/qja1998/co2%20emission%20forecasting/runs/w1r5met8' target=\"_blank\">happy-valley-160</a></strong> to <a href='https://wandb.ai/qja1998/co2%20emission%20forecasting' target=\"_blank\">Weights & Biases</a> (<a href='https://wandb.me/run' target=\"_blank\">docs</a>)<br/>"
      ],
      "text/plain": [
       "<IPython.core.display.HTML object>"
      ]
     },
     "metadata": {},
     "output_type": "display_data"
    },
    {
     "data": {
      "text/html": [
       " View project at <a href='https://wandb.ai/qja1998/co2%20emission%20forecasting' target=\"_blank\">https://wandb.ai/qja1998/co2%20emission%20forecasting</a>"
      ],
      "text/plain": [
       "<IPython.core.display.HTML object>"
      ]
     },
     "metadata": {},
     "output_type": "display_data"
    },
    {
     "data": {
      "text/html": [
       " View run at <a href='https://wandb.ai/qja1998/co2%20emission%20forecasting/runs/w1r5met8' target=\"_blank\">https://wandb.ai/qja1998/co2%20emission%20forecasting/runs/w1r5met8</a>"
      ],
      "text/plain": [
       "<IPython.core.display.HTML object>"
      ]
     },
     "metadata": {},
     "output_type": "display_data"
    },
    {
     "name": "stderr",
     "output_type": "stream",
     "text": [
      "100%|██████████| 100/100 [12:28<00:00,  7.48s/it]"
     ]
    },
    {
     "name": "stdout",
     "output_type": "stream",
     "text": [
      "Start training (4 / 4)\n",
      "input_window : 120 | pred_step : 150 | batch_size : 32 | epochs : 100 | feature_size : 32 | d_ff : 512 | num_layers : 2 | lr : 0.0001 | device : cuda | dropout : 0.1 | is_save : True | \n"
     ]
    },
    {
     "name": "stderr",
     "output_type": "stream",
     "text": [
      "\n"
     ]
    },
    {
     "data": {
      "text/html": [
       "Finishing last run (ID:w1r5met8) before initializing another..."
      ],
      "text/plain": [
       "<IPython.core.display.HTML object>"
      ]
     },
     "metadata": {},
     "output_type": "display_data"
    },
    {
     "data": {
      "text/html": [
       "Waiting for W&B process to finish... <strong style=\"color:green\">(success).</strong>"
      ],
      "text/plain": [
       "<IPython.core.display.HTML object>"
      ]
     },
     "metadata": {},
     "output_type": "display_data"
    },
    {
     "data": {
      "application/vnd.jupyter.widget-view+json": {
       "model_id": "56acde30d99349738f180a0df3845429",
       "version_major": 2,
       "version_minor": 0
      },
      "text/plain": [
       "VBox(children=(Label(value='0.001 MB of 0.001 MB uploaded (0.000 MB deduped)\\r'), FloatProgress(value=1.0, max…"
      ]
     },
     "metadata": {},
     "output_type": "display_data"
    },
    {
     "data": {
      "text/html": [
       "<style>\n",
       "    table.wandb td:nth-child(1) { padding: 0 10px; text-align: left ; width: auto;} td:nth-child(2) {text-align: left ; width: 100%}\n",
       "    .wandb-row { display: flex; flex-direction: row; flex-wrap: wrap; justify-content: flex-start; width: 100% }\n",
       "    .wandb-col { display: flex; flex-direction: column; flex-basis: 100%; flex: 1; padding: 10px; }\n",
       "    </style>\n",
       "<div class=\"wandb-row\"><div class=\"wandb-col\"><h3>Run history:</h3><br/><table class=\"wandb\"><tr><td>pred_MAE</td><td>▁▂▃▄▅▅▆▇██</td></tr><tr><td>pred_MSE</td><td>▁▂▃▄▅▅▆▇▇█</td></tr><tr><td>pred_SMAPE</td><td>▁▅▆▇████▇▇</td></tr><tr><td>val_loss_PMJ_AEP</td><td>▇█▇█▇▅▄▄▄▄▄▄▃▂▂▂▂▂▂▂▂▂▂▂▂▁▁▁▁▁▁▁▁▁▁▁▁▁▁▁</td></tr><tr><td>val_loss_PMJ_COMED</td><td>████▇▇▇▇▇▇▆▆▆▆▇▆▆▆▆▆▆▅▅▄▄▄▄▄▄▃▄▄▃▃▂▂▂▁▂▁</td></tr><tr><td>val_loss_PMJ_DAYTON</td><td>█████▇▇▆▅▄▄▄▄▃▃▃▃▂▂▂▂▂▂▂▂▂▂▁▁▁▁▁▁▁▁▁▁▁▁▁</td></tr><tr><td>val_loss_PMJ_DOM</td><td>███▇▆▅▄▄▃▃▃▃▂▂▂▂▂▂▂▂▁▁▁▁▁▁▁▁▁▁▁▁▁▁▁▁▁▁▁▁</td></tr><tr><td>val_loss_PMJ_DUQ</td><td>█▇█▇▆▅▄▃▂▂▂▂▂▂▂▂▂▂▂▂▂▂▂▁▂▁▂▁▁▁▁▁▁▁▁▁▁▁▁▁</td></tr><tr><td>val_loss_PMJ_FE</td><td>█▇▇▇▇▇▇▆▆▆▅▅▄▄▄▃▃▃▃▃▃▂▃▂▂▂▂▂▂▂▂▂▂▂▂▂▂▁▁▁</td></tr><tr><td>val_loss_PMJ_NI</td><td>▇███▇▇▇▇▇▇▆▆▆▅▄▄▃▃▃▃▂▂▂▂▂▂▂▂▂▂▁▁▁▁▁▁▁▁▁▁</td></tr><tr><td>val_loss_PMJ_PJME</td><td>███▆▄▄▃▃▃▃▃▃▃▂▂▂▂▂▂▂▂▂▂▂▁▁▁▁▁▁▁▁▁▁▁▁▁▁▁▁</td></tr><tr><td>val_loss_PMJ_PJMW</td><td>███▇▆▄▄▄▄▄▄▃▃▃▃▃▃▃▂▂▂▂▂▂▂▂▁▁▁▁▁▁▁▁▁▁▁▁▁▁</td></tr><tr><td>val_loss_total</td><td>███▇▇▆▅▅▄▄▄▄▄▃▃▃▃▂▂▂▂▂▂▂▂▂▂▂▁▂▁▁▁▁▁▁▁▁▁▁</td></tr></table><br/></div><div class=\"wandb-col\"><h3>Run summary:</h3><br/><table class=\"wandb\"><tr><td>pred_MAE</td><td>0.20422</td></tr><tr><td>pred_MSE</td><td>0.05647</td></tr><tr><td>pred_SMAPE</td><td>0.04007</td></tr><tr><td>val_loss_PMJ_AEP</td><td>0.00198</td></tr><tr><td>val_loss_PMJ_COMED</td><td>0.00352</td></tr><tr><td>val_loss_PMJ_DAYTON</td><td>0.00228</td></tr><tr><td>val_loss_PMJ_DOM</td><td>0.00305</td></tr><tr><td>val_loss_PMJ_DUQ</td><td>0.00248</td></tr><tr><td>val_loss_PMJ_FE</td><td>0.00385</td></tr><tr><td>val_loss_PMJ_NI</td><td>0.00248</td></tr><tr><td>val_loss_PMJ_PJME</td><td>0.00213</td></tr><tr><td>val_loss_PMJ_PJMW</td><td>0.00241</td></tr><tr><td>val_loss_total</td><td>0.00269</td></tr></table><br/></div></div>"
      ],
      "text/plain": [
       "<IPython.core.display.HTML object>"
      ]
     },
     "metadata": {},
     "output_type": "display_data"
    },
    {
     "data": {
      "text/html": [
       " View run <strong style=\"color:#cdcd00\">happy-valley-160</strong> at: <a href='https://wandb.ai/qja1998/co2%20emission%20forecasting/runs/w1r5met8' target=\"_blank\">https://wandb.ai/qja1998/co2%20emission%20forecasting/runs/w1r5met8</a><br/>Synced 6 W&B file(s), 0 media file(s), 0 artifact file(s) and 0 other file(s)"
      ],
      "text/plain": [
       "<IPython.core.display.HTML object>"
      ]
     },
     "metadata": {},
     "output_type": "display_data"
    },
    {
     "data": {
      "text/html": [
       "Find logs at: <code>.\\wandb\\run-20231223_151820-w1r5met8\\logs</code>"
      ],
      "text/plain": [
       "<IPython.core.display.HTML object>"
      ]
     },
     "metadata": {},
     "output_type": "display_data"
    },
    {
     "data": {
      "text/html": [
       "Successfully finished last run (ID:w1r5met8). Initializing new run:<br/>"
      ],
      "text/plain": [
       "<IPython.core.display.HTML object>"
      ]
     },
     "metadata": {},
     "output_type": "display_data"
    },
    {
     "data": {
      "application/vnd.jupyter.widget-view+json": {
       "model_id": "9cd9fab6cf874759b0414a976e03fbec",
       "version_major": 2,
       "version_minor": 0
      },
      "text/plain": [
       "VBox(children=(Label(value='Waiting for wandb.init()...\\r'), FloatProgress(value=0.011111111111111112, max=1.0…"
      ]
     },
     "metadata": {},
     "output_type": "display_data"
    },
    {
     "data": {
      "text/html": [
       "wandb version 0.16.1 is available!  To upgrade, please run:\n",
       " $ pip install wandb --upgrade"
      ],
      "text/plain": [
       "<IPython.core.display.HTML object>"
      ]
     },
     "metadata": {},
     "output_type": "display_data"
    },
    {
     "data": {
      "text/html": [
       "Tracking run with wandb version 0.15.12"
      ],
      "text/plain": [
       "<IPython.core.display.HTML object>"
      ]
     },
     "metadata": {},
     "output_type": "display_data"
    },
    {
     "data": {
      "text/html": [
       "Run data is saved locally in <code>c:\\Users\\qja19\\Desktop\\탄소\\machine_learning\\wandb\\run-20231223_153102-oia1s3gj</code>"
      ],
      "text/plain": [
       "<IPython.core.display.HTML object>"
      ]
     },
     "metadata": {},
     "output_type": "display_data"
    },
    {
     "data": {
      "text/html": [
       "Syncing run <strong><a href='https://wandb.ai/qja1998/co2%20emission%20forecasting/runs/oia1s3gj' target=\"_blank\">glamorous-jazz-161</a></strong> to <a href='https://wandb.ai/qja1998/co2%20emission%20forecasting' target=\"_blank\">Weights & Biases</a> (<a href='https://wandb.me/run' target=\"_blank\">docs</a>)<br/>"
      ],
      "text/plain": [
       "<IPython.core.display.HTML object>"
      ]
     },
     "metadata": {},
     "output_type": "display_data"
    },
    {
     "data": {
      "text/html": [
       " View project at <a href='https://wandb.ai/qja1998/co2%20emission%20forecasting' target=\"_blank\">https://wandb.ai/qja1998/co2%20emission%20forecasting</a>"
      ],
      "text/plain": [
       "<IPython.core.display.HTML object>"
      ]
     },
     "metadata": {},
     "output_type": "display_data"
    },
    {
     "data": {
      "text/html": [
       " View run at <a href='https://wandb.ai/qja1998/co2%20emission%20forecasting/runs/oia1s3gj' target=\"_blank\">https://wandb.ai/qja1998/co2%20emission%20forecasting/runs/oia1s3gj</a>"
      ],
      "text/plain": [
       "<IPython.core.display.HTML object>"
      ]
     },
     "metadata": {},
     "output_type": "display_data"
    },
    {
     "name": "stderr",
     "output_type": "stream",
     "text": [
      "100%|██████████| 100/100 [12:25<00:00,  7.46s/it]\n"
     ]
    }
   ],
   "source": [
    "select_param(params, list(params.keys()))"
   ]
  },
  {
   "cell_type": "code",
   "execution_count": null,
   "metadata": {},
   "outputs": [],
   "source": []
  }
 ],
 "metadata": {
  "kernelspec": {
   "display_name": "co2_lstm",
   "language": "python",
   "name": "python3"
  },
  "language_info": {
   "codemirror_mode": {
    "name": "ipython",
    "version": 3
   },
   "file_extension": ".py",
   "mimetype": "text/x-python",
   "name": "python",
   "nbconvert_exporter": "python",
   "pygments_lexer": "ipython3",
   "version": "3.9.18"
  }
 },
 "nbformat": 4,
 "nbformat_minor": 2
}
