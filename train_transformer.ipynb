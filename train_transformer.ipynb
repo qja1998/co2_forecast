{
 "cells": [
  {
   "cell_type": "code",
   "execution_count": 1,
   "metadata": {},
   "outputs": [],
   "source": [
    "import warnings\n",
    "warnings.filterwarnings(action='ignore')\n",
    "\n",
    "from transformer_multistep_type import train_start"
   ]
  },
  {
   "cell_type": "code",
   "execution_count": 2,
   "metadata": {},
   "outputs": [],
   "source": [
    "params = {'input_window' : [7, 30, 45, 180],\n",
    "         'output_window' : [1, 7, 30, 45, 180],\n",
    "         'batch_size' : [128],\n",
    "         'epochs' : [500],\n",
    "         'feature_size' : [8, 32, 64, 128, 256],\n",
    "         'num_layers' : [1, 2, 3],\n",
    "         'lr' : [1e-3],\n",
    "         'dropout' : [0.1]}"
   ]
  },
  {
   "cell_type": "code",
   "execution_count": 3,
   "metadata": {},
   "outputs": [],
   "source": [
    "def select_param(params, param_names, selected_params=[], param_idx=0):\n",
    "    if param_idx == 8:\n",
    "        print(\"Start training...\")\n",
    "        for param_name, params in zip(param_names, selected_params):\n",
    "            print(f\"{param_name} : {params}\", end= ' | ')\n",
    "        print()\n",
    "        train_start(*selected_params)\n",
    "        return\n",
    "    \n",
    "    param_name = param_names[param_idx]\n",
    "    param_list = params[param_name]\n",
    "    for parameter in param_list:\n",
    "        select_param(params, param_names, selected_params + [parameter], param_idx + 1)\n"
   ]
  },
  {
   "cell_type": "code",
   "execution_count": 4,
   "metadata": {},
   "outputs": [
    {
     "name": "stdout",
     "output_type": "stream",
     "text": [
      "Start training...\n",
      "8 parameters\n",
      "input_window : 7 | output_window : 1 | batch_size : 128 | epochs : 500 | feature_size : 8 | num_layers : 1 | lr : 0.1 | dropout : 0.1 | \n"
     ]
    },
    {
     "name": "stderr",
     "output_type": "stream",
     "text": [
      "100%|██████████| 500/500 [06:47<00:00,  1.23it/s]\n"
     ]
    },
    {
     "name": "stdout",
     "output_type": "stream",
     "text": [
      "Start training...\n",
      "8 parameters\n",
      "input_window : 7 | output_window : 1 | batch_size : 128 | epochs : 500 | feature_size : 8 | num_layers : 1 | lr : 0.01 | dropout : 0.1 | \n"
     ]
    },
    {
     "name": "stderr",
     "output_type": "stream",
     "text": [
      "100%|██████████| 500/500 [06:42<00:00,  1.24it/s]\n"
     ]
    },
    {
     "name": "stdout",
     "output_type": "stream",
     "text": [
      "Start training...\n",
      "8 parameters\n",
      "input_window : 7 | output_window : 1 | batch_size : 128 | epochs : 500 | feature_size : 8 | num_layers : 1 | lr : 0.005 | dropout : 0.1 | \n"
     ]
    },
    {
     "name": "stderr",
     "output_type": "stream",
     "text": [
      "100%|██████████| 500/500 [06:39<00:00,  1.25it/s]\n"
     ]
    },
    {
     "name": "stdout",
     "output_type": "stream",
     "text": [
      "Start training...\n",
      "8 parameters\n",
      "input_window : 7 | output_window : 1 | batch_size : 128 | epochs : 500 | feature_size : 8 | num_layers : 1 | lr : 0.001 | dropout : 0.1 | \n"
     ]
    },
    {
     "name": "stderr",
     "output_type": "stream",
     "text": [
      "100%|██████████| 500/500 [06:26<00:00,  1.29it/s]\n"
     ]
    },
    {
     "name": "stdout",
     "output_type": "stream",
     "text": [
      "Start training...\n",
      "8 parameters\n",
      "input_window : 7 | output_window : 1 | batch_size : 128 | epochs : 500 | feature_size : 8 | num_layers : 1 | lr : 0.0001 | dropout : 0.1 | \n"
     ]
    },
    {
     "name": "stderr",
     "output_type": "stream",
     "text": [
      "100%|██████████| 500/500 [06:35<00:00,  1.26it/s]\n"
     ]
    },
    {
     "name": "stdout",
     "output_type": "stream",
     "text": [
      "Start training...\n",
      "8 parameters\n",
      "input_window : 7 | output_window : 1 | batch_size : 128 | epochs : 500 | feature_size : 8 | num_layers : 1 | lr : 1e-05 | dropout : 0.1 | \n"
     ]
    },
    {
     "name": "stderr",
     "output_type": "stream",
     "text": [
      "100%|██████████| 500/500 [06:40<00:00,  1.25it/s]\n"
     ]
    },
    {
     "name": "stdout",
     "output_type": "stream",
     "text": [
      "Start training...\n",
      "8 parameters\n",
      "input_window : 7 | output_window : 1 | batch_size : 128 | epochs : 500 | feature_size : 8 | num_layers : 2 | lr : 0.1 | dropout : 0.1 | \n"
     ]
    },
    {
     "name": "stderr",
     "output_type": "stream",
     "text": [
      "100%|██████████| 500/500 [09:38<00:00,  1.16s/it]\n"
     ]
    },
    {
     "name": "stdout",
     "output_type": "stream",
     "text": [
      "Start training...\n",
      "8 parameters\n",
      "input_window : 7 | output_window : 1 | batch_size : 128 | epochs : 500 | feature_size : 8 | num_layers : 2 | lr : 0.01 | dropout : 0.1 | \n"
     ]
    },
    {
     "name": "stderr",
     "output_type": "stream",
     "text": [
      "100%|██████████| 500/500 [09:47<00:00,  1.18s/it]\n"
     ]
    },
    {
     "name": "stdout",
     "output_type": "stream",
     "text": [
      "Start training...\n",
      "8 parameters\n",
      "input_window : 7 | output_window : 1 | batch_size : 128 | epochs : 500 | feature_size : 8 | num_layers : 2 | lr : 0.005 | dropout : 0.1 | \n"
     ]
    },
    {
     "name": "stderr",
     "output_type": "stream",
     "text": [
      "100%|██████████| 500/500 [09:48<00:00,  1.18s/it]\n"
     ]
    },
    {
     "name": "stdout",
     "output_type": "stream",
     "text": [
      "Start training...\n",
      "8 parameters\n",
      "input_window : 7 | output_window : 1 | batch_size : 128 | epochs : 500 | feature_size : 8 | num_layers : 2 | lr : 0.001 | dropout : 0.1 | \n"
     ]
    },
    {
     "name": "stderr",
     "output_type": "stream",
     "text": [
      "100%|██████████| 500/500 [09:39<00:00,  1.16s/it]\n"
     ]
    },
    {
     "name": "stdout",
     "output_type": "stream",
     "text": [
      "Start training...\n",
      "8 parameters\n",
      "input_window : 7 | output_window : 1 | batch_size : 128 | epochs : 500 | feature_size : 8 | num_layers : 2 | lr : 0.0001 | dropout : 0.1 | \n"
     ]
    },
    {
     "name": "stderr",
     "output_type": "stream",
     "text": [
      "100%|██████████| 500/500 [09:43<00:00,  1.17s/it]\n"
     ]
    },
    {
     "name": "stdout",
     "output_type": "stream",
     "text": [
      "Start training...\n",
      "8 parameters\n",
      "input_window : 7 | output_window : 1 | batch_size : 128 | epochs : 500 | feature_size : 8 | num_layers : 2 | lr : 1e-05 | dropout : 0.1 | \n"
     ]
    },
    {
     "name": "stderr",
     "output_type": "stream",
     "text": [
      "100%|██████████| 500/500 [09:42<00:00,  1.17s/it]\n"
     ]
    },
    {
     "name": "stdout",
     "output_type": "stream",
     "text": [
      "Start training...\n",
      "8 parameters\n",
      "input_window : 7 | output_window : 1 | batch_size : 128 | epochs : 500 | feature_size : 8 | num_layers : 3 | lr : 0.1 | dropout : 0.1 | \n"
     ]
    },
    {
     "name": "stderr",
     "output_type": "stream",
     "text": [
      "100%|██████████| 500/500 [12:38<00:00,  1.52s/it]\n"
     ]
    },
    {
     "name": "stdout",
     "output_type": "stream",
     "text": [
      "Start training...\n",
      "8 parameters\n",
      "input_window : 7 | output_window : 1 | batch_size : 128 | epochs : 500 | feature_size : 8 | num_layers : 3 | lr : 0.01 | dropout : 0.1 | \n"
     ]
    },
    {
     "name": "stderr",
     "output_type": "stream",
     "text": [
      "100%|██████████| 500/500 [12:38<00:00,  1.52s/it]\n"
     ]
    },
    {
     "name": "stdout",
     "output_type": "stream",
     "text": [
      "Start training...\n",
      "8 parameters\n",
      "input_window : 7 | output_window : 1 | batch_size : 128 | epochs : 500 | feature_size : 8 | num_layers : 3 | lr : 0.005 | dropout : 0.1 | \n"
     ]
    },
    {
     "name": "stderr",
     "output_type": "stream",
     "text": [
      "100%|██████████| 500/500 [12:39<00:00,  1.52s/it]\n"
     ]
    },
    {
     "name": "stdout",
     "output_type": "stream",
     "text": [
      "Start training...\n",
      "8 parameters\n",
      "input_window : 7 | output_window : 1 | batch_size : 128 | epochs : 500 | feature_size : 8 | num_layers : 3 | lr : 0.001 | dropout : 0.1 | \n"
     ]
    },
    {
     "name": "stderr",
     "output_type": "stream",
     "text": [
      "100%|██████████| 500/500 [12:45<00:00,  1.53s/it]\n"
     ]
    },
    {
     "name": "stdout",
     "output_type": "stream",
     "text": [
      "Start training...\n",
      "8 parameters\n",
      "input_window : 7 | output_window : 1 | batch_size : 128 | epochs : 500 | feature_size : 8 | num_layers : 3 | lr : 0.0001 | dropout : 0.1 | \n"
     ]
    },
    {
     "name": "stderr",
     "output_type": "stream",
     "text": [
      "100%|██████████| 500/500 [12:34<00:00,  1.51s/it]\n"
     ]
    },
    {
     "name": "stdout",
     "output_type": "stream",
     "text": [
      "Start training...\n",
      "8 parameters\n",
      "input_window : 7 | output_window : 1 | batch_size : 128 | epochs : 500 | feature_size : 8 | num_layers : 3 | lr : 1e-05 | dropout : 0.1 | \n"
     ]
    },
    {
     "name": "stderr",
     "output_type": "stream",
     "text": [
      "100%|██████████| 500/500 [12:32<00:00,  1.50s/it]\n"
     ]
    },
    {
     "name": "stdout",
     "output_type": "stream",
     "text": [
      "Start training...\n",
      "8 parameters\n",
      "input_window : 7 | output_window : 1 | batch_size : 128 | epochs : 500 | feature_size : 16 | num_layers : 1 | lr : 0.1 | dropout : 0.1 | \n"
     ]
    },
    {
     "name": "stderr",
     "output_type": "stream",
     "text": [
      "100%|██████████| 500/500 [06:38<00:00,  1.26it/s]\n"
     ]
    },
    {
     "name": "stdout",
     "output_type": "stream",
     "text": [
      "Start training...\n",
      "8 parameters\n",
      "input_window : 7 | output_window : 1 | batch_size : 128 | epochs : 500 | feature_size : 16 | num_layers : 1 | lr : 0.01 | dropout : 0.1 | \n"
     ]
    },
    {
     "name": "stderr",
     "output_type": "stream",
     "text": [
      "100%|██████████| 500/500 [06:56<00:00,  1.20it/s]\n"
     ]
    },
    {
     "name": "stdout",
     "output_type": "stream",
     "text": [
      "Start training...\n",
      "8 parameters\n",
      "input_window : 7 | output_window : 1 | batch_size : 128 | epochs : 500 | feature_size : 16 | num_layers : 1 | lr : 0.005 | dropout : 0.1 | \n"
     ]
    },
    {
     "name": "stderr",
     "output_type": "stream",
     "text": [
      "100%|██████████| 500/500 [06:49<00:00,  1.22it/s]\n"
     ]
    },
    {
     "name": "stdout",
     "output_type": "stream",
     "text": [
      "Start training...\n",
      "8 parameters\n",
      "input_window : 7 | output_window : 1 | batch_size : 128 | epochs : 500 | feature_size : 16 | num_layers : 1 | lr : 0.001 | dropout : 0.1 | \n"
     ]
    },
    {
     "name": "stderr",
     "output_type": "stream",
     "text": [
      "100%|██████████| 500/500 [06:43<00:00,  1.24it/s]\n"
     ]
    },
    {
     "name": "stdout",
     "output_type": "stream",
     "text": [
      "Start training...\n",
      "8 parameters\n",
      "input_window : 7 | output_window : 1 | batch_size : 128 | epochs : 500 | feature_size : 16 | num_layers : 1 | lr : 0.0001 | dropout : 0.1 | \n"
     ]
    },
    {
     "name": "stderr",
     "output_type": "stream",
     "text": [
      "100%|██████████| 500/500 [06:45<00:00,  1.23it/s]\n"
     ]
    },
    {
     "name": "stdout",
     "output_type": "stream",
     "text": [
      "Start training...\n",
      "8 parameters\n",
      "input_window : 7 | output_window : 1 | batch_size : 128 | epochs : 500 | feature_size : 16 | num_layers : 1 | lr : 1e-05 | dropout : 0.1 | \n"
     ]
    },
    {
     "name": "stderr",
     "output_type": "stream",
     "text": [
      "100%|██████████| 500/500 [06:45<00:00,  1.23it/s]\n"
     ]
    },
    {
     "name": "stdout",
     "output_type": "stream",
     "text": [
      "Start training...\n",
      "8 parameters\n",
      "input_window : 7 | output_window : 1 | batch_size : 128 | epochs : 500 | feature_size : 16 | num_layers : 2 | lr : 0.1 | dropout : 0.1 | \n"
     ]
    },
    {
     "name": "stderr",
     "output_type": "stream",
     "text": [
      "100%|██████████| 500/500 [09:39<00:00,  1.16s/it]\n"
     ]
    },
    {
     "name": "stdout",
     "output_type": "stream",
     "text": [
      "Start training...\n",
      "8 parameters\n",
      "input_window : 7 | output_window : 1 | batch_size : 128 | epochs : 500 | feature_size : 16 | num_layers : 2 | lr : 0.01 | dropout : 0.1 | \n"
     ]
    },
    {
     "name": "stderr",
     "output_type": "stream",
     "text": [
      "100%|██████████| 500/500 [09:42<00:00,  1.16s/it]\n"
     ]
    },
    {
     "name": "stdout",
     "output_type": "stream",
     "text": [
      "Start training...\n",
      "8 parameters\n",
      "input_window : 7 | output_window : 1 | batch_size : 128 | epochs : 500 | feature_size : 16 | num_layers : 2 | lr : 0.005 | dropout : 0.1 | \n"
     ]
    },
    {
     "name": "stderr",
     "output_type": "stream",
     "text": [
      "100%|██████████| 500/500 [09:40<00:00,  1.16s/it]\n"
     ]
    },
    {
     "name": "stdout",
     "output_type": "stream",
     "text": [
      "Start training...\n",
      "8 parameters\n",
      "input_window : 7 | output_window : 1 | batch_size : 128 | epochs : 500 | feature_size : 16 | num_layers : 2 | lr : 0.001 | dropout : 0.1 | \n"
     ]
    },
    {
     "name": "stderr",
     "output_type": "stream",
     "text": [
      "100%|██████████| 500/500 [09:37<00:00,  1.15s/it]\n"
     ]
    },
    {
     "name": "stdout",
     "output_type": "stream",
     "text": [
      "Start training...\n",
      "8 parameters\n",
      "input_window : 7 | output_window : 1 | batch_size : 128 | epochs : 500 | feature_size : 16 | num_layers : 2 | lr : 0.0001 | dropout : 0.1 | \n"
     ]
    },
    {
     "name": "stderr",
     "output_type": "stream",
     "text": [
      "100%|██████████| 500/500 [09:32<00:00,  1.15s/it]\n"
     ]
    },
    {
     "name": "stdout",
     "output_type": "stream",
     "text": [
      "Start training...\n",
      "8 parameters\n",
      "input_window : 7 | output_window : 1 | batch_size : 128 | epochs : 500 | feature_size : 16 | num_layers : 2 | lr : 1e-05 | dropout : 0.1 | \n"
     ]
    },
    {
     "name": "stderr",
     "output_type": "stream",
     "text": [
      "100%|██████████| 500/500 [09:40<00:00,  1.16s/it]\n"
     ]
    },
    {
     "name": "stdout",
     "output_type": "stream",
     "text": [
      "Start training...\n",
      "8 parameters\n",
      "input_window : 7 | output_window : 1 | batch_size : 128 | epochs : 500 | feature_size : 16 | num_layers : 3 | lr : 0.1 | dropout : 0.1 | \n"
     ]
    },
    {
     "name": "stderr",
     "output_type": "stream",
     "text": [
      "100%|██████████| 500/500 [12:40<00:00,  1.52s/it]\n"
     ]
    },
    {
     "name": "stdout",
     "output_type": "stream",
     "text": [
      "Start training...\n",
      "8 parameters\n",
      "input_window : 7 | output_window : 1 | batch_size : 128 | epochs : 500 | feature_size : 16 | num_layers : 3 | lr : 0.01 | dropout : 0.1 | \n"
     ]
    },
    {
     "name": "stderr",
     "output_type": "stream",
     "text": [
      "100%|██████████| 500/500 [12:42<00:00,  1.53s/it]\n"
     ]
    },
    {
     "name": "stdout",
     "output_type": "stream",
     "text": [
      "Start training...\n",
      "8 parameters\n",
      "input_window : 7 | output_window : 1 | batch_size : 128 | epochs : 500 | feature_size : 16 | num_layers : 3 | lr : 0.005 | dropout : 0.1 | \n"
     ]
    },
    {
     "name": "stderr",
     "output_type": "stream",
     "text": [
      "100%|██████████| 500/500 [12:43<00:00,  1.53s/it]\n"
     ]
    },
    {
     "name": "stdout",
     "output_type": "stream",
     "text": [
      "Start training...\n",
      "8 parameters\n",
      "input_window : 7 | output_window : 1 | batch_size : 128 | epochs : 500 | feature_size : 16 | num_layers : 3 | lr : 0.001 | dropout : 0.1 | \n"
     ]
    },
    {
     "name": "stderr",
     "output_type": "stream",
     "text": [
      "100%|██████████| 500/500 [12:46<00:00,  1.53s/it]\n"
     ]
    },
    {
     "name": "stdout",
     "output_type": "stream",
     "text": [
      "Start training...\n",
      "8 parameters\n",
      "input_window : 7 | output_window : 1 | batch_size : 128 | epochs : 500 | feature_size : 16 | num_layers : 3 | lr : 0.0001 | dropout : 0.1 | \n"
     ]
    },
    {
     "name": "stderr",
     "output_type": "stream",
     "text": [
      "100%|██████████| 500/500 [12:34<00:00,  1.51s/it]\n"
     ]
    },
    {
     "name": "stdout",
     "output_type": "stream",
     "text": [
      "Start training...\n",
      "8 parameters\n",
      "input_window : 7 | output_window : 1 | batch_size : 128 | epochs : 500 | feature_size : 16 | num_layers : 3 | lr : 1e-05 | dropout : 0.1 | \n"
     ]
    },
    {
     "name": "stderr",
     "output_type": "stream",
     "text": [
      "100%|██████████| 500/500 [12:36<00:00,  1.51s/it]\n"
     ]
    },
    {
     "name": "stdout",
     "output_type": "stream",
     "text": [
      "Start training...\n",
      "8 parameters\n",
      "input_window : 7 | output_window : 1 | batch_size : 128 | epochs : 500 | feature_size : 32 | num_layers : 1 | lr : 0.1 | dropout : 0.1 | \n"
     ]
    },
    {
     "name": "stderr",
     "output_type": "stream",
     "text": [
      "100%|██████████| 500/500 [06:38<00:00,  1.25it/s]\n"
     ]
    },
    {
     "name": "stdout",
     "output_type": "stream",
     "text": [
      "Start training...\n",
      "8 parameters\n",
      "input_window : 7 | output_window : 1 | batch_size : 128 | epochs : 500 | feature_size : 32 | num_layers : 1 | lr : 0.01 | dropout : 0.1 | \n"
     ]
    },
    {
     "name": "stderr",
     "output_type": "stream",
     "text": [
      "100%|██████████| 500/500 [06:35<00:00,  1.26it/s]\n"
     ]
    },
    {
     "name": "stdout",
     "output_type": "stream",
     "text": [
      "Start training...\n",
      "8 parameters\n",
      "input_window : 7 | output_window : 1 | batch_size : 128 | epochs : 500 | feature_size : 32 | num_layers : 1 | lr : 0.005 | dropout : 0.1 | \n"
     ]
    },
    {
     "name": "stderr",
     "output_type": "stream",
     "text": [
      "100%|██████████| 500/500 [06:45<00:00,  1.23it/s]\n"
     ]
    },
    {
     "name": "stdout",
     "output_type": "stream",
     "text": [
      "Start training...\n",
      "8 parameters\n",
      "input_window : 7 | output_window : 1 | batch_size : 128 | epochs : 500 | feature_size : 32 | num_layers : 1 | lr : 0.001 | dropout : 0.1 | \n"
     ]
    },
    {
     "name": "stderr",
     "output_type": "stream",
     "text": [
      "100%|██████████| 500/500 [06:44<00:00,  1.24it/s]\n"
     ]
    },
    {
     "name": "stdout",
     "output_type": "stream",
     "text": [
      "Start training...\n",
      "8 parameters\n",
      "input_window : 7 | output_window : 1 | batch_size : 128 | epochs : 500 | feature_size : 32 | num_layers : 1 | lr : 0.0001 | dropout : 0.1 | \n"
     ]
    },
    {
     "name": "stderr",
     "output_type": "stream",
     "text": [
      "100%|██████████| 500/500 [06:44<00:00,  1.24it/s]\n"
     ]
    },
    {
     "name": "stdout",
     "output_type": "stream",
     "text": [
      "Start training...\n",
      "8 parameters\n",
      "input_window : 7 | output_window : 1 | batch_size : 128 | epochs : 500 | feature_size : 32 | num_layers : 1 | lr : 1e-05 | dropout : 0.1 | \n"
     ]
    },
    {
     "name": "stderr",
     "output_type": "stream",
     "text": [
      "100%|██████████| 500/500 [06:49<00:00,  1.22it/s]\n"
     ]
    },
    {
     "name": "stdout",
     "output_type": "stream",
     "text": [
      "Start training...\n",
      "8 parameters\n",
      "input_window : 7 | output_window : 1 | batch_size : 128 | epochs : 500 | feature_size : 32 | num_layers : 2 | lr : 0.1 | dropout : 0.1 | \n"
     ]
    },
    {
     "name": "stderr",
     "output_type": "stream",
     "text": [
      "100%|██████████| 500/500 [09:41<00:00,  1.16s/it]\n"
     ]
    },
    {
     "name": "stdout",
     "output_type": "stream",
     "text": [
      "Start training...\n",
      "8 parameters\n",
      "input_window : 7 | output_window : 1 | batch_size : 128 | epochs : 500 | feature_size : 32 | num_layers : 2 | lr : 0.01 | dropout : 0.1 | \n"
     ]
    },
    {
     "name": "stderr",
     "output_type": "stream",
     "text": [
      "100%|██████████| 500/500 [09:42<00:00,  1.16s/it]\n"
     ]
    },
    {
     "name": "stdout",
     "output_type": "stream",
     "text": [
      "Start training...\n",
      "8 parameters\n",
      "input_window : 7 | output_window : 1 | batch_size : 128 | epochs : 500 | feature_size : 32 | num_layers : 2 | lr : 0.005 | dropout : 0.1 | \n"
     ]
    },
    {
     "name": "stderr",
     "output_type": "stream",
     "text": [
      "100%|██████████| 500/500 [09:47<00:00,  1.17s/it]\n"
     ]
    },
    {
     "name": "stdout",
     "output_type": "stream",
     "text": [
      "Start training...\n",
      "8 parameters\n",
      "input_window : 7 | output_window : 1 | batch_size : 128 | epochs : 500 | feature_size : 32 | num_layers : 2 | lr : 0.001 | dropout : 0.1 | \n"
     ]
    },
    {
     "name": "stderr",
     "output_type": "stream",
     "text": [
      "100%|██████████| 500/500 [09:41<00:00,  1.16s/it]\n"
     ]
    },
    {
     "name": "stdout",
     "output_type": "stream",
     "text": [
      "Start training...\n",
      "8 parameters\n",
      "input_window : 7 | output_window : 1 | batch_size : 128 | epochs : 500 | feature_size : 32 | num_layers : 2 | lr : 0.0001 | dropout : 0.1 | \n"
     ]
    },
    {
     "name": "stderr",
     "output_type": "stream",
     "text": [
      "100%|██████████| 500/500 [09:46<00:00,  1.17s/it]\n"
     ]
    },
    {
     "name": "stdout",
     "output_type": "stream",
     "text": [
      "Start training...\n",
      "8 parameters\n",
      "input_window : 7 | output_window : 1 | batch_size : 128 | epochs : 500 | feature_size : 32 | num_layers : 2 | lr : 1e-05 | dropout : 0.1 | \n"
     ]
    },
    {
     "name": "stderr",
     "output_type": "stream",
     "text": [
      "100%|██████████| 500/500 [09:48<00:00,  1.18s/it]\n"
     ]
    },
    {
     "name": "stdout",
     "output_type": "stream",
     "text": [
      "Start training...\n",
      "8 parameters\n",
      "input_window : 7 | output_window : 1 | batch_size : 128 | epochs : 500 | feature_size : 32 | num_layers : 3 | lr : 0.1 | dropout : 0.1 | \n"
     ]
    },
    {
     "name": "stderr",
     "output_type": "stream",
     "text": [
      "100%|██████████| 500/500 [12:36<00:00,  1.51s/it]\n"
     ]
    },
    {
     "name": "stdout",
     "output_type": "stream",
     "text": [
      "Start training...\n",
      "8 parameters\n",
      "input_window : 7 | output_window : 1 | batch_size : 128 | epochs : 500 | feature_size : 32 | num_layers : 3 | lr : 0.01 | dropout : 0.1 | \n"
     ]
    },
    {
     "name": "stderr",
     "output_type": "stream",
     "text": [
      "100%|██████████| 500/500 [12:33<00:00,  1.51s/it]\n"
     ]
    },
    {
     "name": "stdout",
     "output_type": "stream",
     "text": [
      "Start training...\n",
      "8 parameters\n",
      "input_window : 7 | output_window : 1 | batch_size : 128 | epochs : 500 | feature_size : 32 | num_layers : 3 | lr : 0.005 | dropout : 0.1 | \n"
     ]
    },
    {
     "name": "stderr",
     "output_type": "stream",
     "text": [
      "100%|██████████| 500/500 [12:35<00:00,  1.51s/it]\n"
     ]
    },
    {
     "name": "stdout",
     "output_type": "stream",
     "text": [
      "Start training...\n",
      "8 parameters\n",
      "input_window : 7 | output_window : 1 | batch_size : 128 | epochs : 500 | feature_size : 32 | num_layers : 3 | lr : 0.001 | dropout : 0.1 | \n"
     ]
    },
    {
     "name": "stderr",
     "output_type": "stream",
     "text": [
      "100%|██████████| 500/500 [12:40<00:00,  1.52s/it]\n"
     ]
    },
    {
     "name": "stdout",
     "output_type": "stream",
     "text": [
      "Start training...\n",
      "8 parameters\n",
      "input_window : 7 | output_window : 1 | batch_size : 128 | epochs : 500 | feature_size : 32 | num_layers : 3 | lr : 0.0001 | dropout : 0.1 | \n"
     ]
    },
    {
     "name": "stderr",
     "output_type": "stream",
     "text": [
      "100%|██████████| 500/500 [12:30<00:00,  1.50s/it]\n"
     ]
    },
    {
     "name": "stdout",
     "output_type": "stream",
     "text": [
      "Start training...\n",
      "8 parameters\n",
      "input_window : 7 | output_window : 1 | batch_size : 128 | epochs : 500 | feature_size : 32 | num_layers : 3 | lr : 1e-05 | dropout : 0.1 | \n"
     ]
    },
    {
     "name": "stderr",
     "output_type": "stream",
     "text": [
      "100%|██████████| 500/500 [12:42<00:00,  1.53s/it]\n"
     ]
    },
    {
     "name": "stdout",
     "output_type": "stream",
     "text": [
      "Start training...\n",
      "8 parameters\n",
      "input_window : 7 | output_window : 1 | batch_size : 128 | epochs : 500 | feature_size : 64 | num_layers : 1 | lr : 0.1 | dropout : 0.1 | \n"
     ]
    },
    {
     "name": "stderr",
     "output_type": "stream",
     "text": [
      "100%|██████████| 500/500 [06:47<00:00,  1.23it/s]\n"
     ]
    },
    {
     "name": "stdout",
     "output_type": "stream",
     "text": [
      "Start training...\n",
      "8 parameters\n",
      "input_window : 7 | output_window : 1 | batch_size : 128 | epochs : 500 | feature_size : 64 | num_layers : 1 | lr : 0.01 | dropout : 0.1 | \n"
     ]
    },
    {
     "name": "stderr",
     "output_type": "stream",
     "text": [
      "100%|██████████| 500/500 [06:45<00:00,  1.23it/s]\n"
     ]
    },
    {
     "name": "stdout",
     "output_type": "stream",
     "text": [
      "Start training...\n",
      "8 parameters\n",
      "input_window : 7 | output_window : 1 | batch_size : 128 | epochs : 500 | feature_size : 64 | num_layers : 1 | lr : 0.005 | dropout : 0.1 | \n"
     ]
    },
    {
     "name": "stderr",
     "output_type": "stream",
     "text": [
      "100%|██████████| 500/500 [06:45<00:00,  1.23it/s]\n"
     ]
    },
    {
     "name": "stdout",
     "output_type": "stream",
     "text": [
      "Start training...\n",
      "8 parameters\n",
      "input_window : 7 | output_window : 1 | batch_size : 128 | epochs : 500 | feature_size : 64 | num_layers : 1 | lr : 0.001 | dropout : 0.1 | \n"
     ]
    },
    {
     "name": "stderr",
     "output_type": "stream",
     "text": [
      "100%|██████████| 500/500 [06:49<00:00,  1.22it/s]\n"
     ]
    },
    {
     "name": "stdout",
     "output_type": "stream",
     "text": [
      "Start training...\n",
      "8 parameters\n",
      "input_window : 7 | output_window : 1 | batch_size : 128 | epochs : 500 | feature_size : 64 | num_layers : 1 | lr : 0.0001 | dropout : 0.1 | \n"
     ]
    },
    {
     "name": "stderr",
     "output_type": "stream",
     "text": [
      "100%|██████████| 500/500 [06:55<00:00,  1.20it/s]\n"
     ]
    },
    {
     "name": "stdout",
     "output_type": "stream",
     "text": [
      "Start training...\n",
      "8 parameters\n",
      "input_window : 7 | output_window : 1 | batch_size : 128 | epochs : 500 | feature_size : 64 | num_layers : 1 | lr : 1e-05 | dropout : 0.1 | \n"
     ]
    },
    {
     "name": "stderr",
     "output_type": "stream",
     "text": [
      "100%|██████████| 500/500 [06:48<00:00,  1.22it/s]\n"
     ]
    },
    {
     "name": "stdout",
     "output_type": "stream",
     "text": [
      "Start training...\n",
      "8 parameters\n",
      "input_window : 7 | output_window : 1 | batch_size : 128 | epochs : 500 | feature_size : 64 | num_layers : 2 | lr : 0.1 | dropout : 0.1 | \n"
     ]
    },
    {
     "name": "stderr",
     "output_type": "stream",
     "text": [
      "100%|██████████| 500/500 [09:38<00:00,  1.16s/it]\n"
     ]
    },
    {
     "name": "stdout",
     "output_type": "stream",
     "text": [
      "Start training...\n",
      "8 parameters\n",
      "input_window : 7 | output_window : 1 | batch_size : 128 | epochs : 500 | feature_size : 64 | num_layers : 2 | lr : 0.01 | dropout : 0.1 | \n"
     ]
    },
    {
     "name": "stderr",
     "output_type": "stream",
     "text": [
      "100%|██████████| 500/500 [09:31<00:00,  1.14s/it]\n"
     ]
    },
    {
     "name": "stdout",
     "output_type": "stream",
     "text": [
      "Start training...\n",
      "8 parameters\n",
      "input_window : 7 | output_window : 1 | batch_size : 128 | epochs : 500 | feature_size : 64 | num_layers : 2 | lr : 0.005 | dropout : 0.1 | \n"
     ]
    },
    {
     "name": "stderr",
     "output_type": "stream",
     "text": [
      "100%|██████████| 500/500 [09:38<00:00,  1.16s/it]\n"
     ]
    },
    {
     "name": "stdout",
     "output_type": "stream",
     "text": [
      "Start training...\n",
      "8 parameters\n",
      "input_window : 7 | output_window : 1 | batch_size : 128 | epochs : 500 | feature_size : 64 | num_layers : 2 | lr : 0.001 | dropout : 0.1 | \n"
     ]
    },
    {
     "name": "stderr",
     "output_type": "stream",
     "text": [
      "100%|██████████| 500/500 [09:34<00:00,  1.15s/it]\n"
     ]
    },
    {
     "name": "stdout",
     "output_type": "stream",
     "text": [
      "Start training...\n",
      "8 parameters\n",
      "input_window : 7 | output_window : 1 | batch_size : 128 | epochs : 500 | feature_size : 64 | num_layers : 2 | lr : 0.0001 | dropout : 0.1 | \n"
     ]
    },
    {
     "name": "stderr",
     "output_type": "stream",
     "text": [
      "100%|██████████| 500/500 [09:34<00:00,  1.15s/it]\n"
     ]
    },
    {
     "name": "stdout",
     "output_type": "stream",
     "text": [
      "Start training...\n",
      "8 parameters\n",
      "input_window : 7 | output_window : 1 | batch_size : 128 | epochs : 500 | feature_size : 64 | num_layers : 2 | lr : 1e-05 | dropout : 0.1 | \n"
     ]
    },
    {
     "name": "stderr",
     "output_type": "stream",
     "text": [
      "100%|██████████| 500/500 [09:37<00:00,  1.15s/it]\n"
     ]
    },
    {
     "name": "stdout",
     "output_type": "stream",
     "text": [
      "Start training...\n",
      "8 parameters\n",
      "input_window : 7 | output_window : 1 | batch_size : 128 | epochs : 500 | feature_size : 64 | num_layers : 3 | lr : 0.1 | dropout : 0.1 | \n"
     ]
    },
    {
     "name": "stderr",
     "output_type": "stream",
     "text": [
      "100%|██████████| 500/500 [12:40<00:00,  1.52s/it]\n"
     ]
    },
    {
     "name": "stdout",
     "output_type": "stream",
     "text": [
      "Start training...\n",
      "8 parameters\n",
      "input_window : 7 | output_window : 1 | batch_size : 128 | epochs : 500 | feature_size : 64 | num_layers : 3 | lr : 0.01 | dropout : 0.1 | \n"
     ]
    },
    {
     "name": "stderr",
     "output_type": "stream",
     "text": [
      "100%|██████████| 500/500 [12:51<00:00,  1.54s/it]\n"
     ]
    },
    {
     "name": "stdout",
     "output_type": "stream",
     "text": [
      "Start training...\n",
      "8 parameters\n",
      "input_window : 7 | output_window : 1 | batch_size : 128 | epochs : 500 | feature_size : 64 | num_layers : 3 | lr : 0.005 | dropout : 0.1 | \n"
     ]
    },
    {
     "name": "stderr",
     "output_type": "stream",
     "text": [
      "100%|██████████| 500/500 [12:44<00:00,  1.53s/it]\n"
     ]
    },
    {
     "name": "stdout",
     "output_type": "stream",
     "text": [
      "Start training...\n",
      "8 parameters\n",
      "input_window : 7 | output_window : 1 | batch_size : 128 | epochs : 500 | feature_size : 64 | num_layers : 3 | lr : 0.001 | dropout : 0.1 | \n"
     ]
    },
    {
     "name": "stderr",
     "output_type": "stream",
     "text": [
      "100%|██████████| 500/500 [12:49<00:00,  1.54s/it]\n"
     ]
    },
    {
     "name": "stdout",
     "output_type": "stream",
     "text": [
      "Start training...\n",
      "8 parameters\n",
      "input_window : 7 | output_window : 1 | batch_size : 128 | epochs : 500 | feature_size : 64 | num_layers : 3 | lr : 0.0001 | dropout : 0.1 | \n"
     ]
    },
    {
     "name": "stderr",
     "output_type": "stream",
     "text": [
      "100%|██████████| 500/500 [12:47<00:00,  1.53s/it]\n"
     ]
    },
    {
     "name": "stdout",
     "output_type": "stream",
     "text": [
      "Start training...\n",
      "8 parameters\n",
      "input_window : 7 | output_window : 1 | batch_size : 128 | epochs : 500 | feature_size : 64 | num_layers : 3 | lr : 1e-05 | dropout : 0.1 | \n"
     ]
    },
    {
     "name": "stderr",
     "output_type": "stream",
     "text": [
      "100%|██████████| 500/500 [12:36<00:00,  1.51s/it]\n"
     ]
    },
    {
     "name": "stdout",
     "output_type": "stream",
     "text": [
      "Start training...\n",
      "8 parameters\n",
      "input_window : 7 | output_window : 1 | batch_size : 128 | epochs : 500 | feature_size : 128 | num_layers : 1 | lr : 0.1 | dropout : 0.1 | \n"
     ]
    },
    {
     "name": "stderr",
     "output_type": "stream",
     "text": [
      "100%|██████████| 500/500 [06:35<00:00,  1.26it/s]\n"
     ]
    },
    {
     "name": "stdout",
     "output_type": "stream",
     "text": [
      "Start training...\n",
      "8 parameters\n",
      "input_window : 7 | output_window : 1 | batch_size : 128 | epochs : 500 | feature_size : 128 | num_layers : 1 | lr : 0.01 | dropout : 0.1 | \n"
     ]
    },
    {
     "name": "stderr",
     "output_type": "stream",
     "text": [
      "100%|██████████| 500/500 [06:35<00:00,  1.26it/s]\n"
     ]
    },
    {
     "name": "stdout",
     "output_type": "stream",
     "text": [
      "Start training...\n",
      "8 parameters\n",
      "input_window : 7 | output_window : 1 | batch_size : 128 | epochs : 500 | feature_size : 128 | num_layers : 1 | lr : 0.005 | dropout : 0.1 | \n"
     ]
    },
    {
     "name": "stderr",
     "output_type": "stream",
     "text": [
      "100%|██████████| 500/500 [06:37<00:00,  1.26it/s]\n"
     ]
    },
    {
     "name": "stdout",
     "output_type": "stream",
     "text": [
      "Start training...\n",
      "8 parameters\n",
      "input_window : 7 | output_window : 1 | batch_size : 128 | epochs : 500 | feature_size : 128 | num_layers : 1 | lr : 0.001 | dropout : 0.1 | \n"
     ]
    },
    {
     "name": "stderr",
     "output_type": "stream",
     "text": [
      "100%|██████████| 500/500 [06:40<00:00,  1.25it/s]\n"
     ]
    },
    {
     "name": "stdout",
     "output_type": "stream",
     "text": [
      "Start training...\n",
      "8 parameters\n",
      "input_window : 7 | output_window : 1 | batch_size : 128 | epochs : 500 | feature_size : 128 | num_layers : 1 | lr : 0.0001 | dropout : 0.1 | \n"
     ]
    },
    {
     "name": "stderr",
     "output_type": "stream",
     "text": [
      "100%|██████████| 500/500 [06:41<00:00,  1.25it/s]\n"
     ]
    },
    {
     "name": "stdout",
     "output_type": "stream",
     "text": [
      "Start training...\n",
      "8 parameters\n",
      "input_window : 7 | output_window : 1 | batch_size : 128 | epochs : 500 | feature_size : 128 | num_layers : 1 | lr : 1e-05 | dropout : 0.1 | \n"
     ]
    },
    {
     "name": "stderr",
     "output_type": "stream",
     "text": [
      "100%|██████████| 500/500 [06:48<00:00,  1.22it/s]\n"
     ]
    },
    {
     "name": "stdout",
     "output_type": "stream",
     "text": [
      "Start training...\n",
      "8 parameters\n",
      "input_window : 7 | output_window : 1 | batch_size : 128 | epochs : 500 | feature_size : 128 | num_layers : 2 | lr : 0.1 | dropout : 0.1 | \n"
     ]
    },
    {
     "name": "stderr",
     "output_type": "stream",
     "text": [
      "100%|██████████| 500/500 [09:37<00:00,  1.16s/it]\n"
     ]
    },
    {
     "name": "stdout",
     "output_type": "stream",
     "text": [
      "Start training...\n",
      "8 parameters\n",
      "input_window : 7 | output_window : 1 | batch_size : 128 | epochs : 500 | feature_size : 128 | num_layers : 2 | lr : 0.01 | dropout : 0.1 | \n"
     ]
    },
    {
     "name": "stderr",
     "output_type": "stream",
     "text": [
      "100%|██████████| 500/500 [09:40<00:00,  1.16s/it]\n"
     ]
    },
    {
     "name": "stdout",
     "output_type": "stream",
     "text": [
      "Start training...\n",
      "8 parameters\n",
      "input_window : 7 | output_window : 1 | batch_size : 128 | epochs : 500 | feature_size : 128 | num_layers : 2 | lr : 0.005 | dropout : 0.1 | \n"
     ]
    },
    {
     "name": "stderr",
     "output_type": "stream",
     "text": [
      "100%|██████████| 500/500 [09:40<00:00,  1.16s/it]\n"
     ]
    },
    {
     "name": "stdout",
     "output_type": "stream",
     "text": [
      "Start training...\n",
      "8 parameters\n",
      "input_window : 7 | output_window : 1 | batch_size : 128 | epochs : 500 | feature_size : 128 | num_layers : 2 | lr : 0.001 | dropout : 0.1 | \n"
     ]
    },
    {
     "name": "stderr",
     "output_type": "stream",
     "text": [
      "100%|██████████| 500/500 [09:39<00:00,  1.16s/it]\n"
     ]
    },
    {
     "name": "stdout",
     "output_type": "stream",
     "text": [
      "Start training...\n",
      "8 parameters\n",
      "input_window : 7 | output_window : 1 | batch_size : 128 | epochs : 500 | feature_size : 128 | num_layers : 2 | lr : 0.0001 | dropout : 0.1 | \n"
     ]
    },
    {
     "name": "stderr",
     "output_type": "stream",
     "text": [
      "100%|██████████| 500/500 [09:49<00:00,  1.18s/it]\n"
     ]
    },
    {
     "name": "stdout",
     "output_type": "stream",
     "text": [
      "Start training...\n",
      "8 parameters\n",
      "input_window : 7 | output_window : 1 | batch_size : 128 | epochs : 500 | feature_size : 128 | num_layers : 2 | lr : 1e-05 | dropout : 0.1 | \n"
     ]
    },
    {
     "name": "stderr",
     "output_type": "stream",
     "text": [
      "100%|██████████| 500/500 [09:45<00:00,  1.17s/it]\n"
     ]
    },
    {
     "name": "stdout",
     "output_type": "stream",
     "text": [
      "Start training...\n",
      "8 parameters\n",
      "input_window : 7 | output_window : 1 | batch_size : 128 | epochs : 500 | feature_size : 128 | num_layers : 3 | lr : 0.1 | dropout : 0.1 | \n"
     ]
    },
    {
     "name": "stderr",
     "output_type": "stream",
     "text": [
      "100%|██████████| 500/500 [12:39<00:00,  1.52s/it]\n"
     ]
    },
    {
     "name": "stdout",
     "output_type": "stream",
     "text": [
      "Start training...\n",
      "8 parameters\n",
      "input_window : 7 | output_window : 1 | batch_size : 128 | epochs : 500 | feature_size : 128 | num_layers : 3 | lr : 0.01 | dropout : 0.1 | \n"
     ]
    },
    {
     "name": "stderr",
     "output_type": "stream",
     "text": [
      "100%|██████████| 500/500 [12:30<00:00,  1.50s/it]\n"
     ]
    },
    {
     "name": "stdout",
     "output_type": "stream",
     "text": [
      "Start training...\n",
      "8 parameters\n",
      "input_window : 7 | output_window : 1 | batch_size : 128 | epochs : 500 | feature_size : 128 | num_layers : 3 | lr : 0.005 | dropout : 0.1 | \n"
     ]
    },
    {
     "name": "stderr",
     "output_type": "stream",
     "text": [
      "100%|██████████| 500/500 [12:32<00:00,  1.50s/it]\n"
     ]
    },
    {
     "name": "stdout",
     "output_type": "stream",
     "text": [
      "Start training...\n",
      "8 parameters\n",
      "input_window : 7 | output_window : 1 | batch_size : 128 | epochs : 500 | feature_size : 128 | num_layers : 3 | lr : 0.001 | dropout : 0.1 | \n"
     ]
    },
    {
     "name": "stderr",
     "output_type": "stream",
     "text": [
      "100%|██████████| 500/500 [12:28<00:00,  1.50s/it]\n"
     ]
    },
    {
     "name": "stdout",
     "output_type": "stream",
     "text": [
      "Start training...\n",
      "8 parameters\n",
      "input_window : 7 | output_window : 1 | batch_size : 128 | epochs : 500 | feature_size : 128 | num_layers : 3 | lr : 0.0001 | dropout : 0.1 | \n"
     ]
    },
    {
     "name": "stderr",
     "output_type": "stream",
     "text": [
      "100%|██████████| 500/500 [12:45<00:00,  1.53s/it]\n"
     ]
    },
    {
     "name": "stdout",
     "output_type": "stream",
     "text": [
      "Start training...\n",
      "8 parameters\n",
      "input_window : 7 | output_window : 1 | batch_size : 128 | epochs : 500 | feature_size : 128 | num_layers : 3 | lr : 1e-05 | dropout : 0.1 | \n"
     ]
    },
    {
     "name": "stderr",
     "output_type": "stream",
     "text": [
      "100%|██████████| 500/500 [12:38<00:00,  1.52s/it]\n"
     ]
    },
    {
     "name": "stdout",
     "output_type": "stream",
     "text": [
      "Start training...\n",
      "8 parameters\n",
      "input_window : 7 | output_window : 1 | batch_size : 128 | epochs : 500 | feature_size : 256 | num_layers : 1 | lr : 0.1 | dropout : 0.1 | \n"
     ]
    },
    {
     "name": "stderr",
     "output_type": "stream",
     "text": [
      "100%|██████████| 500/500 [06:29<00:00,  1.28it/s]\n"
     ]
    },
    {
     "name": "stdout",
     "output_type": "stream",
     "text": [
      "Start training...\n",
      "8 parameters\n",
      "input_window : 7 | output_window : 1 | batch_size : 128 | epochs : 500 | feature_size : 256 | num_layers : 1 | lr : 0.01 | dropout : 0.1 | \n"
     ]
    },
    {
     "name": "stderr",
     "output_type": "stream",
     "text": [
      "100%|██████████| 500/500 [06:25<00:00,  1.30it/s]\n"
     ]
    },
    {
     "name": "stdout",
     "output_type": "stream",
     "text": [
      "Start training...\n",
      "8 parameters\n",
      "input_window : 7 | output_window : 1 | batch_size : 128 | epochs : 500 | feature_size : 256 | num_layers : 1 | lr : 0.005 | dropout : 0.1 | \n"
     ]
    },
    {
     "name": "stderr",
     "output_type": "stream",
     "text": [
      "100%|██████████| 500/500 [06:25<00:00,  1.30it/s]\n"
     ]
    },
    {
     "name": "stdout",
     "output_type": "stream",
     "text": [
      "Start training...\n",
      "8 parameters\n",
      "input_window : 7 | output_window : 1 | batch_size : 128 | epochs : 500 | feature_size : 256 | num_layers : 1 | lr : 0.001 | dropout : 0.1 | \n"
     ]
    },
    {
     "name": "stderr",
     "output_type": "stream",
     "text": [
      "100%|██████████| 500/500 [06:29<00:00,  1.29it/s]\n"
     ]
    },
    {
     "name": "stdout",
     "output_type": "stream",
     "text": [
      "Start training...\n",
      "8 parameters\n",
      "input_window : 7 | output_window : 1 | batch_size : 128 | epochs : 500 | feature_size : 256 | num_layers : 1 | lr : 0.0001 | dropout : 0.1 | \n"
     ]
    },
    {
     "name": "stderr",
     "output_type": "stream",
     "text": [
      "100%|██████████| 500/500 [06:41<00:00,  1.25it/s]\n"
     ]
    },
    {
     "name": "stdout",
     "output_type": "stream",
     "text": [
      "Start training...\n",
      "8 parameters\n",
      "input_window : 7 | output_window : 1 | batch_size : 128 | epochs : 500 | feature_size : 256 | num_layers : 1 | lr : 1e-05 | dropout : 0.1 | \n"
     ]
    },
    {
     "name": "stderr",
     "output_type": "stream",
     "text": [
      "100%|██████████| 500/500 [06:29<00:00,  1.28it/s]\n"
     ]
    },
    {
     "name": "stdout",
     "output_type": "stream",
     "text": [
      "Start training...\n",
      "8 parameters\n",
      "input_window : 7 | output_window : 1 | batch_size : 128 | epochs : 500 | feature_size : 256 | num_layers : 2 | lr : 0.1 | dropout : 0.1 | \n"
     ]
    },
    {
     "name": "stderr",
     "output_type": "stream",
     "text": [
      "100%|██████████| 500/500 [09:30<00:00,  1.14s/it]\n"
     ]
    },
    {
     "name": "stdout",
     "output_type": "stream",
     "text": [
      "Start training...\n",
      "8 parameters\n",
      "input_window : 7 | output_window : 1 | batch_size : 128 | epochs : 500 | feature_size : 256 | num_layers : 2 | lr : 0.01 | dropout : 0.1 | \n"
     ]
    },
    {
     "name": "stderr",
     "output_type": "stream",
     "text": [
      "100%|██████████| 500/500 [09:31<00:00,  1.14s/it]\n"
     ]
    },
    {
     "name": "stdout",
     "output_type": "stream",
     "text": [
      "Start training...\n",
      "8 parameters\n",
      "input_window : 7 | output_window : 1 | batch_size : 128 | epochs : 500 | feature_size : 256 | num_layers : 2 | lr : 0.005 | dropout : 0.1 | \n"
     ]
    },
    {
     "name": "stderr",
     "output_type": "stream",
     "text": [
      "100%|██████████| 500/500 [09:26<00:00,  1.13s/it]\n"
     ]
    },
    {
     "name": "stdout",
     "output_type": "stream",
     "text": [
      "Start training...\n",
      "8 parameters\n",
      "input_window : 7 | output_window : 1 | batch_size : 128 | epochs : 500 | feature_size : 256 | num_layers : 2 | lr : 0.001 | dropout : 0.1 | \n"
     ]
    },
    {
     "name": "stderr",
     "output_type": "stream",
     "text": [
      "100%|██████████| 500/500 [09:24<00:00,  1.13s/it]\n"
     ]
    },
    {
     "name": "stdout",
     "output_type": "stream",
     "text": [
      "Start training...\n",
      "8 parameters\n",
      "input_window : 7 | output_window : 1 | batch_size : 128 | epochs : 500 | feature_size : 256 | num_layers : 2 | lr : 0.0001 | dropout : 0.1 | \n"
     ]
    },
    {
     "name": "stderr",
     "output_type": "stream",
     "text": [
      "100%|██████████| 500/500 [09:26<00:00,  1.13s/it]\n"
     ]
    },
    {
     "name": "stdout",
     "output_type": "stream",
     "text": [
      "Start training...\n",
      "8 parameters\n",
      "input_window : 7 | output_window : 1 | batch_size : 128 | epochs : 500 | feature_size : 256 | num_layers : 2 | lr : 1e-05 | dropout : 0.1 | \n"
     ]
    },
    {
     "name": "stderr",
     "output_type": "stream",
     "text": [
      "100%|██████████| 500/500 [09:32<00:00,  1.15s/it]\n"
     ]
    },
    {
     "name": "stdout",
     "output_type": "stream",
     "text": [
      "Start training...\n",
      "8 parameters\n",
      "input_window : 7 | output_window : 1 | batch_size : 128 | epochs : 500 | feature_size : 256 | num_layers : 3 | lr : 0.1 | dropout : 0.1 | \n"
     ]
    },
    {
     "name": "stderr",
     "output_type": "stream",
     "text": [
      "100%|██████████| 500/500 [12:24<00:00,  1.49s/it]\n"
     ]
    },
    {
     "name": "stdout",
     "output_type": "stream",
     "text": [
      "Start training...\n",
      "8 parameters\n",
      "input_window : 7 | output_window : 1 | batch_size : 128 | epochs : 500 | feature_size : 256 | num_layers : 3 | lr : 0.01 | dropout : 0.1 | \n"
     ]
    },
    {
     "name": "stderr",
     "output_type": "stream",
     "text": [
      "100%|██████████| 500/500 [12:28<00:00,  1.50s/it]\n"
     ]
    },
    {
     "name": "stdout",
     "output_type": "stream",
     "text": [
      "Start training...\n",
      "8 parameters\n",
      "input_window : 7 | output_window : 1 | batch_size : 128 | epochs : 500 | feature_size : 256 | num_layers : 3 | lr : 0.005 | dropout : 0.1 | \n"
     ]
    },
    {
     "name": "stderr",
     "output_type": "stream",
     "text": [
      "100%|██████████| 500/500 [12:35<00:00,  1.51s/it]\n"
     ]
    },
    {
     "name": "stdout",
     "output_type": "stream",
     "text": [
      "Start training...\n",
      "8 parameters\n",
      "input_window : 7 | output_window : 1 | batch_size : 128 | epochs : 500 | feature_size : 256 | num_layers : 3 | lr : 0.001 | dropout : 0.1 | \n"
     ]
    },
    {
     "name": "stderr",
     "output_type": "stream",
     "text": [
      "100%|██████████| 500/500 [12:36<00:00,  1.51s/it]\n"
     ]
    },
    {
     "name": "stdout",
     "output_type": "stream",
     "text": [
      "Start training...\n",
      "8 parameters\n",
      "input_window : 7 | output_window : 1 | batch_size : 128 | epochs : 500 | feature_size : 256 | num_layers : 3 | lr : 0.0001 | dropout : 0.1 | \n"
     ]
    },
    {
     "name": "stderr",
     "output_type": "stream",
     "text": [
      "100%|██████████| 500/500 [12:34<00:00,  1.51s/it]\n"
     ]
    },
    {
     "name": "stdout",
     "output_type": "stream",
     "text": [
      "Start training...\n",
      "8 parameters\n",
      "input_window : 7 | output_window : 1 | batch_size : 128 | epochs : 500 | feature_size : 256 | num_layers : 3 | lr : 1e-05 | dropout : 0.1 | \n"
     ]
    },
    {
     "name": "stderr",
     "output_type": "stream",
     "text": [
      "100%|██████████| 500/500 [12:41<00:00,  1.52s/it]\n"
     ]
    },
    {
     "name": "stdout",
     "output_type": "stream",
     "text": [
      "Start training...\n",
      "8 parameters\n",
      "input_window : 7 | output_window : 7 | batch_size : 128 | epochs : 500 | feature_size : 8 | num_layers : 1 | lr : 0.1 | dropout : 0.1 | \n"
     ]
    },
    {
     "name": "stderr",
     "output_type": "stream",
     "text": [
      "100%|██████████| 500/500 [06:37<00:00,  1.26it/s]\n"
     ]
    },
    {
     "name": "stdout",
     "output_type": "stream",
     "text": [
      "Start training...\n",
      "8 parameters\n",
      "input_window : 7 | output_window : 7 | batch_size : 128 | epochs : 500 | feature_size : 8 | num_layers : 1 | lr : 0.01 | dropout : 0.1 | \n"
     ]
    },
    {
     "name": "stderr",
     "output_type": "stream",
     "text": [
      "100%|██████████| 500/500 [06:21<00:00,  1.31it/s]\n"
     ]
    },
    {
     "name": "stdout",
     "output_type": "stream",
     "text": [
      "Start training...\n",
      "8 parameters\n",
      "input_window : 7 | output_window : 7 | batch_size : 128 | epochs : 500 | feature_size : 8 | num_layers : 1 | lr : 0.005 | dropout : 0.1 | \n"
     ]
    },
    {
     "name": "stderr",
     "output_type": "stream",
     "text": [
      "100%|██████████| 500/500 [06:21<00:00,  1.31it/s]\n"
     ]
    },
    {
     "name": "stdout",
     "output_type": "stream",
     "text": [
      "Start training...\n",
      "8 parameters\n",
      "input_window : 7 | output_window : 7 | batch_size : 128 | epochs : 500 | feature_size : 8 | num_layers : 1 | lr : 0.001 | dropout : 0.1 | \n"
     ]
    },
    {
     "name": "stderr",
     "output_type": "stream",
     "text": [
      "100%|██████████| 500/500 [06:18<00:00,  1.32it/s]\n"
     ]
    },
    {
     "name": "stdout",
     "output_type": "stream",
     "text": [
      "Start training...\n",
      "8 parameters\n",
      "input_window : 7 | output_window : 7 | batch_size : 128 | epochs : 500 | feature_size : 8 | num_layers : 1 | lr : 0.0001 | dropout : 0.1 | \n"
     ]
    },
    {
     "name": "stderr",
     "output_type": "stream",
     "text": [
      "100%|██████████| 500/500 [06:19<00:00,  1.32it/s]\n"
     ]
    },
    {
     "name": "stdout",
     "output_type": "stream",
     "text": [
      "Start training...\n",
      "8 parameters\n",
      "input_window : 7 | output_window : 7 | batch_size : 128 | epochs : 500 | feature_size : 8 | num_layers : 1 | lr : 1e-05 | dropout : 0.1 | \n"
     ]
    },
    {
     "name": "stderr",
     "output_type": "stream",
     "text": [
      "100%|██████████| 500/500 [06:18<00:00,  1.32it/s]\n"
     ]
    },
    {
     "name": "stdout",
     "output_type": "stream",
     "text": [
      "Start training...\n",
      "8 parameters\n",
      "input_window : 7 | output_window : 7 | batch_size : 128 | epochs : 500 | feature_size : 8 | num_layers : 2 | lr : 0.1 | dropout : 0.1 | \n"
     ]
    },
    {
     "name": "stderr",
     "output_type": "stream",
     "text": [
      "100%|██████████| 500/500 [09:15<00:00,  1.11s/it]\n"
     ]
    },
    {
     "name": "stdout",
     "output_type": "stream",
     "text": [
      "Start training...\n",
      "8 parameters\n",
      "input_window : 7 | output_window : 7 | batch_size : 128 | epochs : 500 | feature_size : 8 | num_layers : 2 | lr : 0.01 | dropout : 0.1 | \n"
     ]
    },
    {
     "name": "stderr",
     "output_type": "stream",
     "text": [
      "100%|██████████| 500/500 [09:12<00:00,  1.11s/it]\n"
     ]
    },
    {
     "name": "stdout",
     "output_type": "stream",
     "text": [
      "Start training...\n",
      "8 parameters\n",
      "input_window : 7 | output_window : 7 | batch_size : 128 | epochs : 500 | feature_size : 8 | num_layers : 2 | lr : 0.005 | dropout : 0.1 | \n"
     ]
    },
    {
     "name": "stderr",
     "output_type": "stream",
     "text": [
      " 56%|█████▌    | 280/500 [05:24<04:15,  1.16s/it]\n"
     ]
    },
    {
     "ename": "KeyboardInterrupt",
     "evalue": "",
     "output_type": "error",
     "traceback": [
      "\u001b[1;31m---------------------------------------------------------------------------\u001b[0m",
      "\u001b[1;31mKeyboardInterrupt\u001b[0m                         Traceback (most recent call last)",
      "\u001b[1;32mc:\\Users\\qja19\\Desktop\\탄소\\machine_learning\\train_transformer.ipynb Cell 4\u001b[0m line \u001b[0;36m1\n\u001b[1;32m----> <a href='vscode-notebook-cell:/c%3A/Users/qja19/Desktop/%ED%83%84%EC%86%8C/machine_learning/train_transformer.ipynb#W4sZmlsZQ%3D%3D?line=0'>1</a>\u001b[0m select_param(params, \u001b[39mlist\u001b[39;49m(params\u001b[39m.\u001b[39;49mkeys()))\n",
      "\u001b[1;32mc:\\Users\\qja19\\Desktop\\탄소\\machine_learning\\train_transformer.ipynb Cell 4\u001b[0m line \u001b[0;36m1\n\u001b[0;32m     <a href='vscode-notebook-cell:/c%3A/Users/qja19/Desktop/%ED%83%84%EC%86%8C/machine_learning/train_transformer.ipynb#W4sZmlsZQ%3D%3D?line=11'>12</a>\u001b[0m param_list \u001b[39m=\u001b[39m params[param_name]\n\u001b[0;32m     <a href='vscode-notebook-cell:/c%3A/Users/qja19/Desktop/%ED%83%84%EC%86%8C/machine_learning/train_transformer.ipynb#W4sZmlsZQ%3D%3D?line=12'>13</a>\u001b[0m \u001b[39mfor\u001b[39;00m parameter \u001b[39min\u001b[39;00m param_list:\n\u001b[1;32m---> <a href='vscode-notebook-cell:/c%3A/Users/qja19/Desktop/%ED%83%84%EC%86%8C/machine_learning/train_transformer.ipynb#W4sZmlsZQ%3D%3D?line=13'>14</a>\u001b[0m     select_param(params, param_names, selected_params \u001b[39m+\u001b[39;49m [parameter], param_idx \u001b[39m+\u001b[39;49m \u001b[39m1\u001b[39;49m)\n",
      "\u001b[1;32mc:\\Users\\qja19\\Desktop\\탄소\\machine_learning\\train_transformer.ipynb Cell 4\u001b[0m line \u001b[0;36m1\n\u001b[0;32m     <a href='vscode-notebook-cell:/c%3A/Users/qja19/Desktop/%ED%83%84%EC%86%8C/machine_learning/train_transformer.ipynb#W4sZmlsZQ%3D%3D?line=11'>12</a>\u001b[0m param_list \u001b[39m=\u001b[39m params[param_name]\n\u001b[0;32m     <a href='vscode-notebook-cell:/c%3A/Users/qja19/Desktop/%ED%83%84%EC%86%8C/machine_learning/train_transformer.ipynb#W4sZmlsZQ%3D%3D?line=12'>13</a>\u001b[0m \u001b[39mfor\u001b[39;00m parameter \u001b[39min\u001b[39;00m param_list:\n\u001b[1;32m---> <a href='vscode-notebook-cell:/c%3A/Users/qja19/Desktop/%ED%83%84%EC%86%8C/machine_learning/train_transformer.ipynb#W4sZmlsZQ%3D%3D?line=13'>14</a>\u001b[0m     select_param(params, param_names, selected_params \u001b[39m+\u001b[39;49m [parameter], param_idx \u001b[39m+\u001b[39;49m \u001b[39m1\u001b[39;49m)\n",
      "    \u001b[1;31m[... skipping similar frames: select_param at line 14 (5 times)]\u001b[0m\n",
      "\u001b[1;32mc:\\Users\\qja19\\Desktop\\탄소\\machine_learning\\train_transformer.ipynb Cell 4\u001b[0m line \u001b[0;36m1\n\u001b[0;32m     <a href='vscode-notebook-cell:/c%3A/Users/qja19/Desktop/%ED%83%84%EC%86%8C/machine_learning/train_transformer.ipynb#W4sZmlsZQ%3D%3D?line=11'>12</a>\u001b[0m param_list \u001b[39m=\u001b[39m params[param_name]\n\u001b[0;32m     <a href='vscode-notebook-cell:/c%3A/Users/qja19/Desktop/%ED%83%84%EC%86%8C/machine_learning/train_transformer.ipynb#W4sZmlsZQ%3D%3D?line=12'>13</a>\u001b[0m \u001b[39mfor\u001b[39;00m parameter \u001b[39min\u001b[39;00m param_list:\n\u001b[1;32m---> <a href='vscode-notebook-cell:/c%3A/Users/qja19/Desktop/%ED%83%84%EC%86%8C/machine_learning/train_transformer.ipynb#W4sZmlsZQ%3D%3D?line=13'>14</a>\u001b[0m     select_param(params, param_names, selected_params \u001b[39m+\u001b[39;49m [parameter], param_idx \u001b[39m+\u001b[39;49m \u001b[39m1\u001b[39;49m)\n",
      "\u001b[1;32mc:\\Users\\qja19\\Desktop\\탄소\\machine_learning\\train_transformer.ipynb Cell 4\u001b[0m line \u001b[0;36m8\n\u001b[0;32m      <a href='vscode-notebook-cell:/c%3A/Users/qja19/Desktop/%ED%83%84%EC%86%8C/machine_learning/train_transformer.ipynb#W4sZmlsZQ%3D%3D?line=5'>6</a>\u001b[0m         \u001b[39mprint\u001b[39m(\u001b[39mf\u001b[39m\u001b[39m\"\u001b[39m\u001b[39m{\u001b[39;00mparam_name\u001b[39m}\u001b[39;00m\u001b[39m : \u001b[39m\u001b[39m{\u001b[39;00mparams\u001b[39m}\u001b[39;00m\u001b[39m\"\u001b[39m, end\u001b[39m=\u001b[39m \u001b[39m'\u001b[39m\u001b[39m | \u001b[39m\u001b[39m'\u001b[39m)\n\u001b[0;32m      <a href='vscode-notebook-cell:/c%3A/Users/qja19/Desktop/%ED%83%84%EC%86%8C/machine_learning/train_transformer.ipynb#W4sZmlsZQ%3D%3D?line=6'>7</a>\u001b[0m     \u001b[39mprint\u001b[39m()\n\u001b[1;32m----> <a href='vscode-notebook-cell:/c%3A/Users/qja19/Desktop/%ED%83%84%EC%86%8C/machine_learning/train_transformer.ipynb#W4sZmlsZQ%3D%3D?line=7'>8</a>\u001b[0m     train_start(\u001b[39m*\u001b[39;49mselected_params)\n\u001b[0;32m      <a href='vscode-notebook-cell:/c%3A/Users/qja19/Desktop/%ED%83%84%EC%86%8C/machine_learning/train_transformer.ipynb#W4sZmlsZQ%3D%3D?line=8'>9</a>\u001b[0m     \u001b[39mreturn\u001b[39;00m\n\u001b[0;32m     <a href='vscode-notebook-cell:/c%3A/Users/qja19/Desktop/%ED%83%84%EC%86%8C/machine_learning/train_transformer.ipynb#W4sZmlsZQ%3D%3D?line=10'>11</a>\u001b[0m param_name \u001b[39m=\u001b[39m param_names[param_idx]\n",
      "File \u001b[1;32mc:\\Users\\qja19\\Desktop\\탄소\\machine_learning\\transformer_multistep_type.py:327\u001b[0m, in \u001b[0;36mtrain_start\u001b[1;34m(input_window, output_window, batch_size, epochs, feature_size, num_layers, lr, dropout, is_save)\u001b[0m\n\u001b[0;32m    325\u001b[0m \u001b[39mfor\u001b[39;00m train_data, \u001b[39mtype\u001b[39m, scaler \u001b[39min\u001b[39;00m train_data_list:\n\u001b[0;32m    326\u001b[0m     model, optimizer, scheduler \u001b[39m=\u001b[39m models[\u001b[39mtype\u001b[39m]\n\u001b[1;32m--> 327\u001b[0m     model, optimizer, scheduler, loss \u001b[39m=\u001b[39m train(model,\n\u001b[0;32m    328\u001b[0m                                               train_data,\n\u001b[0;32m    329\u001b[0m                                               \u001b[39mtype\u001b[39;49m,\n\u001b[0;32m    330\u001b[0m                                               epoch,\n\u001b[0;32m    331\u001b[0m                                               optimizer,\n\u001b[0;32m    332\u001b[0m                                               scheduler,\n\u001b[0;32m    333\u001b[0m                                               criterion,\n\u001b[0;32m    334\u001b[0m                                               batch_size,\n\u001b[0;32m    335\u001b[0m                                               input_window,\n\u001b[0;32m    336\u001b[0m                                               output_window,\n\u001b[0;32m    337\u001b[0m                                               RESULT_TXT_PATH)\n\u001b[0;32m    338\u001b[0m     models[\u001b[39mtype\u001b[39m] \u001b[39m=\u001b[39m model, optimizer, scheduler\n\u001b[0;32m    339\u001b[0m     total_train_loss \u001b[39m+\u001b[39m\u001b[39m=\u001b[39m loss\n",
      "File \u001b[1;32mc:\\Users\\qja19\\Desktop\\탄소\\machine_learning\\transformer_multistep_type.py:155\u001b[0m, in \u001b[0;36mtrain\u001b[1;34m(model, train_data, type, epoch, optimizer, scheduler, criterion, batch_size, input_window, output_window, RESULT_TXT_PATH)\u001b[0m\n\u001b[0;32m    152\u001b[0m start_time \u001b[39m=\u001b[39m time\u001b[39m.\u001b[39mtime()\n\u001b[0;32m    154\u001b[0m \u001b[39mfor\u001b[39;00m batch, i \u001b[39min\u001b[39;00m \u001b[39menumerate\u001b[39m(\u001b[39mrange\u001b[39m(\u001b[39m0\u001b[39m, \u001b[39mlen\u001b[39m(train_data) \u001b[39m-\u001b[39m \u001b[39m1\u001b[39m, batch_size)):\n\u001b[1;32m--> 155\u001b[0m     data, targets \u001b[39m=\u001b[39m get_batch(train_data, i, batch_size, input_window)\n\u001b[0;32m    156\u001b[0m     optimizer\u001b[39m.\u001b[39mzero_grad()\n\u001b[0;32m    157\u001b[0m     output \u001b[39m=\u001b[39m model(data)\n",
      "File \u001b[1;32mc:\\Users\\qja19\\Desktop\\탄소\\machine_learning\\transformer_multistep_type.py:145\u001b[0m, in \u001b[0;36mget_batch\u001b[1;34m(source, i, batch_size, input_window)\u001b[0m\n\u001b[0;32m    143\u001b[0m data \u001b[39m=\u001b[39m source[i:i\u001b[39m+\u001b[39mseq_len]    \n\u001b[0;32m    144\u001b[0m \u001b[39minput\u001b[39m \u001b[39m=\u001b[39m torch\u001b[39m.\u001b[39mstack(torch\u001b[39m.\u001b[39mstack([item[\u001b[39m0\u001b[39m] \u001b[39mfor\u001b[39;00m item \u001b[39min\u001b[39;00m data])\u001b[39m.\u001b[39mchunk(input_window,\u001b[39m1\u001b[39m)) \u001b[39m# 1 is feature size\u001b[39;00m\n\u001b[1;32m--> 145\u001b[0m target \u001b[39m=\u001b[39m torch\u001b[39m.\u001b[39;49mstack(torch\u001b[39m.\u001b[39;49mstack([item[\u001b[39m1\u001b[39;49m] \u001b[39mfor\u001b[39;49;00m item \u001b[39min\u001b[39;49;00m data])\u001b[39m.\u001b[39;49mchunk(input_window,\u001b[39m1\u001b[39;49m))\n\u001b[0;32m    146\u001b[0m \u001b[39mreturn\u001b[39;00m \u001b[39minput\u001b[39m, target\n",
      "\u001b[1;31mKeyboardInterrupt\u001b[0m: "
     ]
    }
   ],
   "source": [
    "select_param(params, list(params.keys()))"
   ]
  },
  {
   "cell_type": "code",
   "execution_count": null,
   "metadata": {},
   "outputs": [],
   "source": []
  }
 ],
 "metadata": {
  "kernelspec": {
   "display_name": "co2_lstm",
   "language": "python",
   "name": "python3"
  },
  "language_info": {
   "codemirror_mode": {
    "name": "ipython",
    "version": 3
   },
   "file_extension": ".py",
   "mimetype": "text/x-python",
   "name": "python",
   "nbconvert_exporter": "python",
   "pygments_lexer": "ipython3",
   "version": "3.9.18"
  }
 },
 "nbformat": 4,
 "nbformat_minor": 2
}
