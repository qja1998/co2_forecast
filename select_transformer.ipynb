{
 "cells": [
  {
   "cell_type": "code",
   "execution_count": 1,
   "metadata": {},
   "outputs": [],
   "source": [
    "import warnings\n",
    "warnings.filterwarnings(action='ignore')"
   ]
  },
  {
   "cell_type": "code",
   "execution_count": 2,
   "metadata": {},
   "outputs": [],
   "source": [
    "# input_window, output_window, batch_size, epochs, feature_size, d_ff, num_layers, lr, dropout\n",
    "params = [[120, 1, 64, 500, 32, 512, 2, 1e-5, 0.1, True]]"
   ]
  },
  {
   "cell_type": "code",
   "execution_count": 4,
   "metadata": {},
   "outputs": [
    {
     "name": "stderr",
     "output_type": "stream",
     "text": [
      "Failed to detect the name of this notebook, you can set it manually with the WANDB_NOTEBOOK_NAME environment variable to enable code saving.\n",
      "\u001b[34m\u001b[1mwandb\u001b[0m: Currently logged in as: \u001b[33mqja1998\u001b[0m. Use \u001b[1m`wandb login --relogin`\u001b[0m to force relogin\n"
     ]
    },
    {
     "data": {
      "text/html": [
       "wandb version 0.16.1 is available!  To upgrade, please run:\n",
       " $ pip install wandb --upgrade"
      ],
      "text/plain": [
       "<IPython.core.display.HTML object>"
      ]
     },
     "metadata": {},
     "output_type": "display_data"
    },
    {
     "data": {
      "text/html": [
       "Tracking run with wandb version 0.15.12"
      ],
      "text/plain": [
       "<IPython.core.display.HTML object>"
      ]
     },
     "metadata": {},
     "output_type": "display_data"
    },
    {
     "data": {
      "text/html": [
       "Run data is saved locally in <code>c:\\Users\\qja19\\Desktop\\탄소\\machine_learning\\wandb\\run-20231213_164247-4lqw8fmh</code>"
      ],
      "text/plain": [
       "<IPython.core.display.HTML object>"
      ]
     },
     "metadata": {},
     "output_type": "display_data"
    },
    {
     "data": {
      "text/html": [
       "Syncing run <strong><a href='https://wandb.ai/qja1998/co2%20emission%20forecasting/runs/4lqw8fmh' target=\"_blank\">wandering-darkness-116</a></strong> to <a href='https://wandb.ai/qja1998/co2%20emission%20forecasting' target=\"_blank\">Weights & Biases</a> (<a href='https://wandb.me/run' target=\"_blank\">docs</a>)<br/>"
      ],
      "text/plain": [
       "<IPython.core.display.HTML object>"
      ]
     },
     "metadata": {},
     "output_type": "display_data"
    },
    {
     "data": {
      "text/html": [
       " View project at <a href='https://wandb.ai/qja1998/co2%20emission%20forecasting' target=\"_blank\">https://wandb.ai/qja1998/co2%20emission%20forecasting</a>"
      ],
      "text/plain": [
       "<IPython.core.display.HTML object>"
      ]
     },
     "metadata": {},
     "output_type": "display_data"
    },
    {
     "data": {
      "text/html": [
       " View run at <a href='https://wandb.ai/qja1998/co2%20emission%20forecasting/runs/4lqw8fmh' target=\"_blank\">https://wandb.ai/qja1998/co2%20emission%20forecasting/runs/4lqw8fmh</a>"
      ],
      "text/plain": [
       "<IPython.core.display.HTML object>"
      ]
     },
     "metadata": {},
     "output_type": "display_data"
    },
    {
     "name": "stderr",
     "output_type": "stream",
     "text": [
      "\u001b[34m\u001b[1mwandb\u001b[0m: \u001b[33mWARNING\u001b[0m Calling wandb.run.save without any arguments is deprecated.Changes to attributes are automatically persisted.\n",
      "100%|██████████| 500/500 [18:41<00:00,  2.24s/it]\n"
     ]
    },
    {
     "ename": "TypeError",
     "evalue": "cannot unpack non-iterable TransAm object",
     "output_type": "error",
     "traceback": [
      "\u001b[1;31m---------------------------------------------------------------------------\u001b[0m",
      "\u001b[1;31mTypeError\u001b[0m                                 Traceback (most recent call last)",
      "\u001b[1;32mc:\\Users\\qja19\\Desktop\\탄소\\machine_learning\\select_transformer.ipynb Cell 3\u001b[0m line \u001b[0;36m6\n\u001b[0;32m      <a href='vscode-notebook-cell:/c%3A/Users/qja19/Desktop/%ED%83%84%EC%86%8C/machine_learning/select_transformer.ipynb#W2sZmlsZQ%3D%3D?line=3'>4</a>\u001b[0m importlib\u001b[39m.\u001b[39mreload(transformer_type)\n\u001b[0;32m      <a href='vscode-notebook-cell:/c%3A/Users/qja19/Desktop/%ED%83%84%EC%86%8C/machine_learning/select_transformer.ipynb#W2sZmlsZQ%3D%3D?line=4'>5</a>\u001b[0m \u001b[39mfrom\u001b[39;00m \u001b[39mtransformer_type\u001b[39;00m\u001b[39m.\u001b[39;00m\u001b[39mtransformer_multistep_type\u001b[39;00m \u001b[39mimport\u001b[39;00m train_start\n\u001b[1;32m----> <a href='vscode-notebook-cell:/c%3A/Users/qja19/Desktop/%ED%83%84%EC%86%8C/machine_learning/select_transformer.ipynb#W2sZmlsZQ%3D%3D?line=5'>6</a>\u001b[0m train_start(\u001b[39m*\u001b[39;49mparam)\n",
      "File \u001b[1;32mc:\\Users\\qja19\\Desktop\\탄소\\machine_learning\\transformer_type\\transformer_multistep_type.py:166\u001b[0m, in \u001b[0;36mtrain_start\u001b[1;34m(input_window, output_window, batch_size, epochs, feature_size, d_ff, num_layers, lr, dropout, is_save)\u001b[0m\n\u001b[0;32m    164\u001b[0m \u001b[39mif\u001b[39;00m is_save:\n\u001b[0;32m    165\u001b[0m     \u001b[39mfor\u001b[39;00m t \u001b[39min\u001b[39;00m best_models:\n\u001b[1;32m--> 166\u001b[0m         model, _, _ \u001b[39m=\u001b[39m best_models[t]\n\u001b[0;32m    167\u001b[0m         torch\u001b[39m.\u001b[39msave(model\u001b[39m.\u001b[39mstate_dict(), \u001b[39mf\u001b[39m\u001b[39m\"\u001b[39m\u001b[39m{\u001b[39;00mRESULT_PATH\u001b[39m}\u001b[39;00m\u001b[39m/models/\u001b[39m\u001b[39m{\u001b[39;00mt\u001b[39m}\u001b[39;00m\u001b[39m_\u001b[39m\u001b[39m{\u001b[39;00minput_window\u001b[39m}\u001b[39;00m\u001b[39m_\u001b[39m\u001b[39m{\u001b[39;00mbatch_size\u001b[39m}\u001b[39;00m\u001b[39m_\u001b[39m\u001b[39m{\u001b[39;00mfeature_size\u001b[39m}\u001b[39;00m\u001b[39m-\u001b[39m\u001b[39m{\u001b[39;00mnum_layers\u001b[39m}\u001b[39;00m\u001b[39m_\u001b[39m\u001b[39m{\u001b[39;00mlr\u001b[39m}\u001b[39;00m\u001b[39m_\u001b[39m\u001b[39m{\u001b[39;00mepoch\u001b[39m}\u001b[39;00m\u001b[39m-\u001b[39m\u001b[39m{\u001b[39;00mbest_epoch\u001b[39m}\u001b[39;00m\u001b[39m-\u001b[39m\u001b[39m{\u001b[39;00mbest_pred_smape\u001b[39m:\u001b[39;00m\u001b[39m.5f\u001b[39m\u001b[39m}\u001b[39;00m\u001b[39m_\u001b[39m\u001b[39m{\u001b[39;00mbest_pred_mse\u001b[39m:\u001b[39;00m\u001b[39m.5f\u001b[39m\u001b[39m}\u001b[39;00m\u001b[39m.pt\u001b[39m\u001b[39m\"\u001b[39m)\n",
      "\u001b[1;31mTypeError\u001b[0m: cannot unpack non-iterable TransAm object"
     ]
    },
    {
     "name": "stdout",
     "output_type": "stream",
     "text": [
      "Error in callback <bound method _WandbInit._pause_backend of <wandb.sdk.wandb_init._WandbInit object at 0x00000136B4FF8F70>> (for post_run_cell), with arguments args (<ExecutionResult object at 136a6b2e8e0, execution_count=4 error_before_exec=None error_in_exec=cannot unpack non-iterable TransAm object info=<ExecutionInfo object at 136a6b2e0d0, raw_cell=\"for param in params:\n",
      "    import importlib\n",
      "    impo..\" store_history=True silent=False shell_futures=True cell_id=vscode-notebook-cell:/c%3A/Users/qja19/Desktop/%ED%83%84%EC%86%8C/machine_learning/select_transformer.ipynb#W2sZmlsZQ%3D%3D> result=None>,),kwargs {}:\n"
     ]
    },
    {
     "ename": "TypeError",
     "evalue": "_pause_backend() takes 1 positional argument but 2 were given",
     "output_type": "error",
     "traceback": [
      "\u001b[1;31m---------------------------------------------------------------------------\u001b[0m",
      "\u001b[1;31mTypeError\u001b[0m                                 Traceback (most recent call last)",
      "\u001b[1;31mTypeError\u001b[0m: _pause_backend() takes 1 positional argument but 2 were given"
     ]
    }
   ],
   "source": [
    "for param in params:\n",
    "    import importlib\n",
    "    import transformer_type\n",
    "    importlib.reload(transformer_type)\n",
    "    from transformer_type.transformer_multistep_type import train_start\n",
    "    train_start(*param)"
   ]
  },
  {
   "cell_type": "code",
   "execution_count": null,
   "metadata": {},
   "outputs": [],
   "source": []
  }
 ],
 "metadata": {
  "kernelspec": {
   "display_name": "co2_lstm",
   "language": "python",
   "name": "python3"
  },
  "language_info": {
   "codemirror_mode": {
    "name": "ipython",
    "version": 3
   },
   "file_extension": ".py",
   "mimetype": "text/x-python",
   "name": "python",
   "nbconvert_exporter": "python",
   "pygments_lexer": "ipython3",
   "version": "3.9.18"
  }
 },
 "nbformat": 4,
 "nbformat_minor": 2
}
