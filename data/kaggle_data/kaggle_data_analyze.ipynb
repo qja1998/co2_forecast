{
 "cells": [
  {
   "cell_type": "code",
   "execution_count": 21,
   "metadata": {},
   "outputs": [],
   "source": [
    "import pandas as pd\n",
    "import numpy as np\n",
    "import matplotlib.pyplot as plt"
   ]
  },
  {
   "cell_type": "code",
   "execution_count": 25,
   "metadata": {},
   "outputs": [
    {
     "data": {
      "text/html": [
       "<div>\n",
       "<style scoped>\n",
       "    .dataframe tbody tr th:only-of-type {\n",
       "        vertical-align: middle;\n",
       "    }\n",
       "\n",
       "    .dataframe tbody tr th {\n",
       "        vertical-align: top;\n",
       "    }\n",
       "\n",
       "    .dataframe thead th {\n",
       "        text-align: right;\n",
       "    }\n",
       "</style>\n",
       "<table border=\"1\" class=\"dataframe\">\n",
       "  <thead>\n",
       "    <tr style=\"text-align: right;\">\n",
       "      <th></th>\n",
       "      <th>time</th>\n",
       "      <th>temperature</th>\n",
       "      <th>load</th>\n",
       "    </tr>\n",
       "  </thead>\n",
       "  <tbody>\n",
       "    <tr>\n",
       "      <th>0</th>\n",
       "      <td>01/01/09 01:00 AM</td>\n",
       "      <td>24</td>\n",
       "      <td>30360</td>\n",
       "    </tr>\n",
       "    <tr>\n",
       "      <th>1</th>\n",
       "      <td>01/01/09 02:00 AM</td>\n",
       "      <td>24</td>\n",
       "      <td>29155</td>\n",
       "    </tr>\n",
       "    <tr>\n",
       "      <th>2</th>\n",
       "      <td>01/01/09 03:00 AM</td>\n",
       "      <td>24</td>\n",
       "      <td>28086</td>\n",
       "    </tr>\n",
       "    <tr>\n",
       "      <th>3</th>\n",
       "      <td>01/01/09 04:00 AM</td>\n",
       "      <td>24</td>\n",
       "      <td>28031</td>\n",
       "    </tr>\n",
       "    <tr>\n",
       "      <th>4</th>\n",
       "      <td>01/01/09 05:00 AM</td>\n",
       "      <td>24</td>\n",
       "      <td>27730</td>\n",
       "    </tr>\n",
       "    <tr>\n",
       "      <th>...</th>\n",
       "      <td>...</td>\n",
       "      <td>...</td>\n",
       "      <td>...</td>\n",
       "    </tr>\n",
       "    <tr>\n",
       "      <th>17514</th>\n",
       "      <td>12/31/10 08:00 PM</td>\n",
       "      <td>26</td>\n",
       "      <td>53819</td>\n",
       "    </tr>\n",
       "    <tr>\n",
       "      <th>17515</th>\n",
       "      <td>12/31/10 09:00 PM</td>\n",
       "      <td>26</td>\n",
       "      <td>51543</td>\n",
       "    </tr>\n",
       "    <tr>\n",
       "      <th>17516</th>\n",
       "      <td>12/31/10 10:00 PM</td>\n",
       "      <td>25</td>\n",
       "      <td>44961</td>\n",
       "    </tr>\n",
       "    <tr>\n",
       "      <th>17517</th>\n",
       "      <td>12/31/10 11:00 PM</td>\n",
       "      <td>24</td>\n",
       "      <td>38484</td>\n",
       "    </tr>\n",
       "    <tr>\n",
       "      <th>17518</th>\n",
       "      <td>01/01/11 12:00 AM</td>\n",
       "      <td>24</td>\n",
       "      <td>36729</td>\n",
       "    </tr>\n",
       "  </tbody>\n",
       "</table>\n",
       "<p>17519 rows × 3 columns</p>\n",
       "</div>"
      ],
      "text/plain": [
       "                    time  temperature   load\n",
       "0      01/01/09 01:00 AM           24  30360\n",
       "1      01/01/09 02:00 AM           24  29155\n",
       "2      01/01/09 03:00 AM           24  28086\n",
       "3      01/01/09 04:00 AM           24  28031\n",
       "4      01/01/09 05:00 AM           24  27730\n",
       "...                  ...          ...    ...\n",
       "17514  12/31/10 08:00 PM           26  53819\n",
       "17515  12/31/10 09:00 PM           26  51543\n",
       "17516  12/31/10 10:00 PM           25  44961\n",
       "17517  12/31/10 11:00 PM           24  38484\n",
       "17518  01/01/11 12:00 AM           24  36729\n",
       "\n",
       "[17519 rows x 3 columns]"
      ]
     },
     "execution_count": 25,
     "metadata": {},
     "output_type": "execute_result"
    }
   ],
   "source": [
    "mal_df = pd.read_csv(\"./malaysia_all_data_for_paper.csv\", sep=';')\n",
    "mal_df"
   ]
  },
  {
   "cell_type": "code",
   "execution_count": 36,
   "metadata": {},
   "outputs": [],
   "source": [
    "in_df = pd.read_csv(\"./india_elec.csv\")\n",
    "in_df.rename(columns={'Unnamed: 0' : 'Datetime'}, inplace=True)\n",
    "\n",
    "mal_df = pd.read_csv(\"./malaysia_all_data_for_paper.csv\", sep=';')\n",
    "mal_df.rename(columns={'time' : 'Datetime'}, inplace=True)\n",
    "\n",
    "rom_df = pd.read_csv(\"./romania.csv\")\n",
    "rom_df.rename(columns={'DateTime' : 'Datetime'}, inplace=True)\n",
    "\n",
    "tet_df = pd.read_csv(\"./tetouan.csv\")\n",
    "\n",
    "steel_df = pd.read_csv(\"./Steel_industry_data.csv\")\n",
    "steel_df.rename(columns={'date' : 'Datetime'}, inplace=True)\n",
    "\n",
    "pmj_df = pd.read_csv(\"./PMJ/pjm_hourly_est.csv\")\n",
    "\n",
    "df_dic = {\n",
    "    'india_elec_daily' : in_df,\n",
    "    'malaysia_elec_daily' : mal_df,\n",
    "    'romania_elec_daily' : rom_df,\n",
    "    'tetouan_elec_daily' : tet_df,\n",
    "    'steel_industry_elec_daily' : steel_df,\n",
    "    'pjm_elec_daily' : pmj_df\n",
    "    }"
   ]
  },
  {
   "cell_type": "code",
   "execution_count": 41,
   "metadata": {},
   "outputs": [
    {
     "name": "stdout",
     "output_type": "stream",
     "text": [
      "503\n",
      "17519\n",
      "36772\n",
      "52416\n",
      "35040\n",
      "178262\n"
     ]
    }
   ],
   "source": [
    "for name in df_dic:\n",
    "    print(len(df_dic[name]))"
   ]
  },
  {
   "cell_type": "code",
   "execution_count": 44,
   "metadata": {},
   "outputs": [
    {
     "data": {
      "text/plain": [
       "2191"
      ]
     },
     "execution_count": 44,
     "metadata": {},
     "output_type": "execute_result"
    }
   ],
   "source": [
    "df = pd.read_csv('../korea/kor_gas_day.csv')\n",
    "len(df.loc[df.type == 'A'])"
   ]
  },
  {
   "cell_type": "code",
   "execution_count": 42,
   "metadata": {},
   "outputs": [
    {
     "name": "stdout",
     "output_type": "stream",
     "text": [
      "498\n",
      "731\n",
      "1532\n",
      "364\n",
      "365\n",
      "7430\n"
     ]
    },
    {
     "name": "stderr",
     "output_type": "stream",
     "text": [
      "C:\\Users\\qja19\\AppData\\Local\\Temp\\ipykernel_1760\\4183789767.py:4: FutureWarning: The default value of numeric_only in DataFrameGroupBy.sum is deprecated. In a future version, numeric_only will default to False. Either specify numeric_only or select only columns which should be valid for the function.\n",
      "  daily_data = df_dic[name].groupby('date').sum()\n",
      "C:\\Users\\qja19\\AppData\\Local\\Temp\\ipykernel_1760\\4183789767.py:4: FutureWarning: The default value of numeric_only in DataFrameGroupBy.sum is deprecated. In a future version, numeric_only will default to False. Either specify numeric_only or select only columns which should be valid for the function.\n",
      "  daily_data = df_dic[name].groupby('date').sum()\n",
      "C:\\Users\\qja19\\AppData\\Local\\Temp\\ipykernel_1760\\4183789767.py:4: FutureWarning: The default value of numeric_only in DataFrameGroupBy.sum is deprecated. In a future version, numeric_only will default to False. Either specify numeric_only or select only columns which should be valid for the function.\n",
      "  daily_data = df_dic[name].groupby('date').sum()\n",
      "C:\\Users\\qja19\\AppData\\Local\\Temp\\ipykernel_1760\\4183789767.py:4: FutureWarning: The default value of numeric_only in DataFrameGroupBy.sum is deprecated. In a future version, numeric_only will default to False. Either specify numeric_only or select only columns which should be valid for the function.\n",
      "  daily_data = df_dic[name].groupby('date').sum()\n",
      "C:\\Users\\qja19\\AppData\\Local\\Temp\\ipykernel_1760\\4183789767.py:4: FutureWarning: The default value of numeric_only in DataFrameGroupBy.sum is deprecated. In a future version, numeric_only will default to False. Either specify numeric_only or select only columns which should be valid for the function.\n",
      "  daily_data = df_dic[name].groupby('date').sum()\n",
      "C:\\Users\\qja19\\AppData\\Local\\Temp\\ipykernel_1760\\4183789767.py:4: FutureWarning: The default value of numeric_only in DataFrameGroupBy.sum is deprecated. In a future version, numeric_only will default to False. Either specify numeric_only or select only columns which should be valid for the function.\n",
      "  daily_data = df_dic[name].groupby('date').sum()\n"
     ]
    }
   ],
   "source": [
    "for name in df_dic:\n",
    "    df_dic[name].Datetime = pd.to_datetime(df_dic[name].Datetime)\n",
    "    df_dic[name]['date'] = df_dic[name].Datetime.dt.date\n",
    "    daily_data = df_dic[name].groupby('date').sum()\n",
    "    print(len(daily_data))\n",
    "    # daily_data.to_csv(\"./daily_data/\" + name + \".csv\")"
   ]
  }
 ],
 "metadata": {
  "kernelspec": {
   "display_name": "co2_lstm",
   "language": "python",
   "name": "python3"
  },
  "language_info": {
   "codemirror_mode": {
    "name": "ipython",
    "version": 3
   },
   "file_extension": ".py",
   "mimetype": "text/x-python",
   "name": "python",
   "nbconvert_exporter": "python",
   "pygments_lexer": "ipython3",
   "version": "3.9.18"
  }
 },
 "nbformat": 4,
 "nbformat_minor": 2
}
