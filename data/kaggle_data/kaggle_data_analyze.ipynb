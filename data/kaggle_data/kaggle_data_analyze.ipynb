{
 "cells": [
  {
   "cell_type": "code",
   "execution_count": 52,
   "metadata": {},
   "outputs": [],
   "source": [
    "import pandas as pd\n",
    "import numpy as np\n",
    "import matplotlib.pyplot as plt"
   ]
  },
  {
   "cell_type": "code",
   "execution_count": 54,
   "metadata": {},
   "outputs": [],
   "source": [
    "df = pd.read_csv(\"./daily_data/pjm_elec_daily.csv\")"
   ]
  },
  {
   "cell_type": "code",
   "execution_count": 55,
   "metadata": {},
   "outputs": [
    {
     "data": {
      "text/plain": [
       "Index(['date', 'AEP', 'COMED', 'DAYTON', 'DEOK', 'DOM', 'DUQ', 'EKPC', 'FE',\n",
       "       'NI', 'PJME', 'PJMW', 'PJM_Load'],\n",
       "      dtype='object')"
      ]
     },
     "execution_count": 55,
     "metadata": {},
     "output_type": "execute_result"
    }
   ],
   "source": [
    "df.columns"
   ]
  },
  {
   "cell_type": "code",
   "execution_count": 62,
   "metadata": {},
   "outputs": [
    {
     "name": "stdout",
     "output_type": "stream",
     "text": [
      "2004.10.01~2018.08.03\n",
      "2011.01.01~2018.08.03\n",
      "2004.10.01~2018.08.03\n",
      "2012.01.01~2018.08.03\n",
      "2005.05.01~2018.08.03\n",
      "2005.01.01~2018.08.03\n",
      "2013.06.01~2018.08.03\n",
      "2011.06.01~2018.08.03\n",
      "2004.05.01~2011.01.01\n",
      "2002.01.01~2018.08.03\n",
      "2002.04.01~2018.08.03\n",
      "1998.04.01~2002.01.01\n"
     ]
    }
   ],
   "source": [
    "com_list = ['AEP', 'COMED', 'DAYTON', 'DEOK', 'DOM', 'DUQ', 'EKPC', 'FE', 'NI', 'PJME', 'PJMW', 'PJM_Load']\n",
    "\n",
    "for com in com_list:\n",
    "    com_df = df.loc[df[com] != 0, ['date', com]]\n",
    "    start = str(com_df.date.iloc[0]).replace('-', '.')\n",
    "    end = str(com_df.date.iloc[-1]).replace('-', '.')\n",
    "    print(f\"{start}~{end}\")"
   ]
  }
 ],
 "metadata": {
  "kernelspec": {
   "display_name": "co2_lstm",
   "language": "python",
   "name": "python3"
  },
  "language_info": {
   "codemirror_mode": {
    "name": "ipython",
    "version": 3
   },
   "file_extension": ".py",
   "mimetype": "text/x-python",
   "name": "python",
   "nbconvert_exporter": "python",
   "pygments_lexer": "ipython3",
   "version": "3.9.18"
  }
 },
 "nbformat": 4,
 "nbformat_minor": 2
}
