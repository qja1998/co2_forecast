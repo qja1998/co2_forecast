{
 "cells": [
  {
   "cell_type": "code",
   "execution_count": 1,
   "metadata": {},
   "outputs": [],
   "source": [
    "import warnings\n",
    "warnings.filterwarnings(action='ignore')"
   ]
  },
  {
   "cell_type": "code",
   "execution_count": 2,
   "metadata": {},
   "outputs": [],
   "source": [
    "import random\n",
    "\n",
    "import numpy as np\n",
    "import pandas as pd\n",
    "import matplotlib.pyplot as plt\n",
    "\n",
    "import torch\n",
    "import torch.nn as nn\n",
    "from torch.nn import functional as F\n",
    "from torch.optim import AdamW\n",
    "from torch.utils.data import DataLoader, Dataset\n",
    "import torch.backends.cudnn as cudnn\n",
    "from sklearn.preprocessing import MinMaxScaler\n",
    "\n",
    "from tqdm import tqdm\n",
    "\n",
    "# import wandb"
   ]
  },
  {
   "cell_type": "code",
   "execution_count": 3,
   "metadata": {},
   "outputs": [],
   "source": [
    "torch.manual_seed(0)\n",
    "torch.cuda.manual_seed(0)\n",
    "torch.cuda.manual_seed_all(0)\n",
    "np.random.seed(0)\n",
    "cudnn.benchmark = False\n",
    "cudnn.deterministic = True\n",
    "random.seed(0)\n",
    "\n",
    "if torch.cuda.is_available(): device = torch.device(\"cuda\")\n",
    "elif torch.backends.mps.is_available(): device = torch.device(\"mps\")\n",
    "else: device = torch.device('cpu')"
   ]
  },
  {
   "cell_type": "code",
   "execution_count": 4,
   "metadata": {},
   "outputs": [
    {
     "data": {
      "text/plain": [
       "device(type='cuda')"
      ]
     },
     "execution_count": 4,
     "metadata": {},
     "output_type": "execute_result"
    }
   ],
   "source": [
    "device"
   ]
  },
  {
   "cell_type": "code",
   "execution_count": 4,
   "metadata": {},
   "outputs": [],
   "source": [
    "# wandb.init()\n",
    "# wandb.run.name = 'lstm'\n",
    "# wandb.run.save()"
   ]
  },
  {
   "cell_type": "code",
   "execution_count": 5,
   "metadata": {},
   "outputs": [],
   "source": [
    "class GasDataset(Dataset):\n",
    "    def __init__(self, df, seq_len, year=None):\n",
    "        self.seq_len = seq_len\n",
    "\n",
    "        self.df = df\n",
    "        if year is not None:\n",
    "            self.df = self.df.loc[self.df['year'] == year]\n",
    "    \n",
    "    def __len__(self):\n",
    "        return len(self.df) - self.seq_len - 1\n",
    "\n",
    "    def __getitem__(self, idx):\n",
    "        data = self.df.iloc[idx:idx + self.seq_len]\n",
    "        date, x = data.date, torch.from_numpy(np.array(data[['supply']], dtype=np.float32))\n",
    "        y = torch.from_numpy(np.array(self.df.iloc[idx + self.seq_len, -4], dtype=np.float32))\n",
    "\n",
    "        return x, y"
   ]
  },
  {
   "cell_type": "code",
   "execution_count": 6,
   "metadata": {},
   "outputs": [],
   "source": [
    "#https://pseudo-lab.github.io/Tutorial-Book/chapters/time-series/Ch5-CNN-LSTM.html\n",
    "class TensorExtractor(nn.Module):\n",
    "    def forward(self, x):\n",
    "        tensor, _ = x\n",
    "        return tensor\n",
    "class ReshapeData(nn.Module):\n",
    "    def __init__(self, seq_len, is_input=True):\n",
    "        super(ReshapeData, self).__init__()\n",
    "        self.seq_len = seq_len\n",
    "        self.is_input = is_input\n",
    "    def forward(self, x):\n",
    "        if self.is_input:\n",
    "            return x.unsqueeze(1)\n",
    "        else:\n",
    "            return x.squeeze(1)\n",
    "\n",
    "    \n",
    "class Model(nn.Module):\n",
    "    def __init__(self, model_name, input_size, hidden_size, num_layer):\n",
    "        super(Model, self).__init__()\n",
    "        model_layers = []\n",
    "        model_layers.append(nn.BatchNorm1d(input_size))\n",
    "        model_layers.append(nn.BatchNorm1d(input_size))\n",
    "        if model_name == 'lstm':\n",
    "            model_layers.append(nn.LSTM(input_size, hidden_size, num_layer))\n",
    "        elif model_name == 'gru':\n",
    "            model_layers.append(nn.GRU(input_size, hidden_size, num_layer))\n",
    "        elif model_name == 'rnn':\n",
    "            model_layers.append(nn.RNN(input_size, hidden_size, num_layer))\n",
    "        model_layers.append(TensorExtractor())\n",
    "        model_layers.append(nn.BatchNorm1d(hidden_size))\n",
    "        model_layers.append(nn.Linear(hidden_size, 1))\n",
    "        self.model = nn.Sequential(*model_layers)\n",
    "    \n",
    "    def forward(self, x):\n",
    "        return self.model(x)"
   ]
  },
  {
   "cell_type": "code",
   "execution_count": 7,
   "metadata": {},
   "outputs": [
    {
     "name": "stdout",
     "output_type": "stream",
     "text": [
      "torch.Size([256, 30]) torch.Size([256, 1])\n",
      "torch.Size([256, 30]) torch.Size([256, 1])\n",
      "torch.Size([256, 30]) torch.Size([256, 1])\n",
      "torch.Size([256, 30]) torch.Size([256, 1])\n",
      "torch.Size([256, 30]) torch.Size([256, 1])\n",
      "torch.Size([256, 30]) torch.Size([256, 1])\n",
      "torch.Size([185, 30]) torch.Size([185, 1])\n"
     ]
    }
   ],
   "source": [
    "seq_len = 30\n",
    "train_rate = 0.8\n",
    "df = pd.read_csv(\"data/korea/kor_gas_day.csv\")\n",
    "df = df.loc[df['type'] == 'A']\n",
    "train_len = int(len(df) * train_rate)\n",
    "\n",
    "df_train, df_val = df.iloc[:train_len], df.iloc[train_len:]\n",
    "train_dataset = GasDataset(df_train, seq_len)\n",
    "\n",
    "model_name = 'lstm'\n",
    "hidden_szie = 128\n",
    "num_layers = 1\n",
    "conv_size = 4\n",
    "\n",
    "batch_szie = 256\n",
    "\n",
    "# gru: 256-3 -> 1057897\n",
    "# lstm: 256-3 -> 1410153\n",
    "# rnn: 256-9 -> 1142889\n",
    "# transformer: 128-1 -> 1186177\n",
    "model_fig = [('gru', 256, 3),\n",
    "             ('lstm', 256, 3),\n",
    "             ('rnn', 256, 9)]\n",
    "model_name, hidden_szie, num_layers = model_fig[2]\n",
    "model = Model(model_name, seq_len, hidden_szie, num_layers).to(device)\n",
    " \n",
    "train_loader = DataLoader(train_dataset, batch_size=batch_szie, shuffle=True)\n",
    "\n",
    "model.eval()\n",
    "for batch_idx, (x, y) in enumerate(train_loader):\n",
    "    x = x.squeeze(-1).to(device)\n",
    "    y = y.unsqueeze(-1).to(device)\n",
    "    print(x.shape, y.shape)\n",
    "    output = model(x)"
   ]
  },
  {
   "cell_type": "code",
   "execution_count": 8,
   "metadata": {},
   "outputs": [],
   "source": [
    "# from pmdarima.utils import diff, diff_inv\n",
    "\n",
    "def train(model, train_loader_list, optimizer, criterion, epoch):\n",
    "    model.train()\n",
    "    for i in tqdm(range(epoch)):\n",
    "        for _, train_loader, _ in train_loader_list:\n",
    "            for batch_idx, (x, y) in enumerate(train_loader):\n",
    "                x = x.squeeze(-1).to(device)\n",
    "                y = y.unsqueeze(-1).to(device)\n",
    "                \n",
    "                optimizer.zero_grad()\n",
    "                output = model(x)\n",
    "                \n",
    "                loss = criterion(output, y)\n",
    "                loss.backward()\n",
    "                optimizer.step()\n",
    "                # wandb.log({\n",
    "                #     \"epoch\": i,\n",
    "                #     \"Loss\": loss,\n",
    "                #     'x': x,\n",
    "                #     'y': y\n",
    "                # })\n",
    "        if i % 20 == 0:\n",
    "            print('Train Epoch: {} [{}/{} ({:.0f}%)]\\tLoss: {:.6f}'.format(\n",
    "                epoch, i, epoch,\n",
    "                100. * i / epoch, loss.item()))\n",
    "\n",
    "def predict_plot(model, val_data_list):\n",
    "    \n",
    "    model.eval()\n",
    "    sub_num = 421\n",
    "    plt.figure(figsize=(20, 15))\n",
    "\n",
    "    for t, val_data, scaler in val_data_list:\n",
    "        x = val_data[0][0].view(1, -1).to(device)\n",
    "        y = val_data[0][1].unsqueeze(-1).to(device)\n",
    "        true_val = []\n",
    "        predictions = []\n",
    "\n",
    "        total_mse = 0\n",
    "        mse = nn.MSELoss()\n",
    "        total_mae = 0\n",
    "        mae = nn.L1Loss()\n",
    "\n",
    "        with torch.no_grad():\n",
    "            for i, (_, true_y) in enumerate(val_data):\n",
    "                output = model(x).squeeze(-1)\n",
    "                tmp = x[0][:-1].unsqueeze(0)\n",
    "                x = torch.cat([tmp, output[:1].unsqueeze(0)], dim=1)\n",
    "\n",
    "                total_mse += mse(output, true_y.unsqueeze(-1).to(device))\n",
    "                total_mae += mae(output, true_y.unsqueeze(-1).to(device))\n",
    "                true_val.append(float(scaler.inverse_transform(true_y.detach().cpu().numpy().reshape(-1, 1))))\n",
    "                predictions.append(float(scaler.inverse_transform(output.detach().cpu().numpy().reshape(-1, 1))))\n",
    "        \n",
    "        total_mse += mse(predictions, true_val.to(device))\n",
    "        total_mae += mae(predictions, true_val.to(device))\n",
    "        print(f'\\nMSE: {total_mse / len(val_data)}, MAE: {total_mae / len(val_data)}')\n",
    "        x = np.arange(len(true_val))\n",
    "\n",
    "        plt.subplot(sub_num)\n",
    "        plt.rc('font', size=10)\n",
    "        plt.plot(x[:180], true_val[:180], label='true', c='blue')\n",
    "        plt.plot(x[:180], predictions[:180], label='predictions', c='red')\n",
    "        plt.title(t)\n",
    "        plt.legend()\n",
    "        \n",
    "        sub_num += 1\n",
    "    plt.savefig(f'./paper_graph/{model_name}.png')\n",
    "    plt.show()\n",
    "\n",
    "    return true_val, predictions"
   ]
  },
  {
   "cell_type": "code",
   "execution_count": 9,
   "metadata": {},
   "outputs": [],
   "source": [
    "seq_len = 90\n",
    "train_rate = 0.8\n",
    "batch_szie = 256\n",
    "\n",
    "df = pd.read_csv(\"data/korea/kor_gas_day.csv\")\n",
    "\n",
    "train_dl_list = []\n",
    "val_ds_list = []\n",
    "\n",
    "for t in df['type'].unique():\n",
    "    tmp = df.loc[df['type'] == t]\n",
    "\n",
    "    df_train, df_val = tmp.iloc[:train_len], tmp.iloc[train_len:]\n",
    "    scaler = MinMaxScaler() \n",
    "    npy_train = scaler.fit_transform(np.array(df_train['supply']).reshape(-1, 1))\n",
    "    npy_val = scaler.transform(np.array(df_val['supply']).reshape(-1, 1))\n",
    "    \n",
    "    df_train.supply = npy_train\n",
    "    df_val.supply = npy_val\n",
    "\n",
    "    train_dataset = GasDataset(df_train, seq_len)\n",
    "    val_dataset = GasDataset(df_val, seq_len)\n",
    "\n",
    "    train_loader = DataLoader(train_dataset, batch_size=batch_szie, shuffle=False)\n",
    "    \n",
    "    train_dl_list.append((t, train_loader, scaler))\n",
    "    val_ds_list.append((t, val_dataset, scaler))"
   ]
  },
  {
   "cell_type": "code",
   "execution_count": 10,
   "metadata": {},
   "outputs": [],
   "source": [
    "model_name = 'lstm'\n",
    "hidden_szie = 256\n",
    "num_layers = 3\n",
    "learning_rate = 1e-3\n",
    "conv = False\n",
    "\n",
    "epochs = 100\n",
    "\n",
    "model = Model(model_name, seq_len, hidden_szie, num_layers).to(device)\n",
    "optimizer = torch.optim.Adam(model.parameters(), lr=learning_rate)\n",
    "criterion = torch.nn.MSELoss().to(device)"
   ]
  },
  {
   "cell_type": "code",
   "execution_count": 11,
   "metadata": {},
   "outputs": [
    {
     "name": "stderr",
     "output_type": "stream",
     "text": [
      "  1%|          | 1/100 [00:07<13:07,  7.95s/it]"
     ]
    },
    {
     "name": "stdout",
     "output_type": "stream",
     "text": [
      "Train Epoch: 100 [0/100 (0%)]\tLoss: 0.026222\n"
     ]
    },
    {
     "name": "stderr",
     "output_type": "stream",
     "text": [
      " 21%|██        | 21/100 [02:43<10:11,  7.74s/it]"
     ]
    },
    {
     "name": "stdout",
     "output_type": "stream",
     "text": [
      "Train Epoch: 100 [20/100 (20%)]\tLoss: 0.011274\n"
     ]
    },
    {
     "name": "stderr",
     "output_type": "stream",
     "text": [
      " 41%|████      | 41/100 [05:19<07:41,  7.82s/it]"
     ]
    },
    {
     "name": "stdout",
     "output_type": "stream",
     "text": [
      "Train Epoch: 100 [40/100 (40%)]\tLoss: 0.006806\n"
     ]
    },
    {
     "name": "stderr",
     "output_type": "stream",
     "text": [
      " 61%|██████    | 61/100 [08:02<05:08,  7.91s/it]"
     ]
    },
    {
     "name": "stdout",
     "output_type": "stream",
     "text": [
      "Train Epoch: 100 [60/100 (60%)]\tLoss: 0.008617\n"
     ]
    },
    {
     "name": "stderr",
     "output_type": "stream",
     "text": [
      " 81%|████████  | 81/100 [10:37<02:27,  7.74s/it]"
     ]
    },
    {
     "name": "stdout",
     "output_type": "stream",
     "text": [
      "Train Epoch: 100 [80/100 (80%)]\tLoss: 0.004794\n"
     ]
    },
    {
     "name": "stderr",
     "output_type": "stream",
     "text": [
      "100%|██████████| 100/100 [13:05<00:00,  7.86s/it]\n"
     ]
    },
    {
     "ename": "AttributeError",
     "evalue": "'list' object has no attribute 'to'",
     "output_type": "error",
     "traceback": [
      "\u001b[1;31m---------------------------------------------------------------------------\u001b[0m",
      "\u001b[1;31mAttributeError\u001b[0m                            Traceback (most recent call last)",
      "\u001b[1;32mc:\\Users\\qja19\\Desktop\\탄소\\machine_learning\\lstm.ipynb Cell 11\u001b[0m line \u001b[0;36m2\n\u001b[0;32m      <a href='vscode-notebook-cell:/c%3A/Users/qja19/Desktop/%ED%83%84%EC%86%8C/machine_learning/lstm.ipynb#X13sZmlsZQ%3D%3D?line=0'>1</a>\u001b[0m results \u001b[39m=\u001b[39m train(model, train_dl_list, optimizer, criterion, epochs)\n\u001b[1;32m----> <a href='vscode-notebook-cell:/c%3A/Users/qja19/Desktop/%ED%83%84%EC%86%8C/machine_learning/lstm.ipynb#X13sZmlsZQ%3D%3D?line=1'>2</a>\u001b[0m true_val, predictions \u001b[39m=\u001b[39m predict_plot(model, val_ds_list)\n",
      "\u001b[1;32mc:\\Users\\qja19\\Desktop\\탄소\\machine_learning\\lstm.ipynb Cell 11\u001b[0m line \u001b[0;36m5\n\u001b[0;32m     <a href='vscode-notebook-cell:/c%3A/Users/qja19/Desktop/%ED%83%84%EC%86%8C/machine_learning/lstm.ipynb#X13sZmlsZQ%3D%3D?line=52'>53</a>\u001b[0m         true_val\u001b[39m.\u001b[39mappend(\u001b[39mfloat\u001b[39m(scaler\u001b[39m.\u001b[39minverse_transform(true_y\u001b[39m.\u001b[39mdetach()\u001b[39m.\u001b[39mcpu()\u001b[39m.\u001b[39mnumpy()\u001b[39m.\u001b[39mreshape(\u001b[39m-\u001b[39m\u001b[39m1\u001b[39m, \u001b[39m1\u001b[39m))))\n\u001b[0;32m     <a href='vscode-notebook-cell:/c%3A/Users/qja19/Desktop/%ED%83%84%EC%86%8C/machine_learning/lstm.ipynb#X13sZmlsZQ%3D%3D?line=53'>54</a>\u001b[0m         predictions\u001b[39m.\u001b[39mappend(\u001b[39mfloat\u001b[39m(scaler\u001b[39m.\u001b[39minverse_transform(output\u001b[39m.\u001b[39mdetach()\u001b[39m.\u001b[39mcpu()\u001b[39m.\u001b[39mnumpy()\u001b[39m.\u001b[39mreshape(\u001b[39m-\u001b[39m\u001b[39m1\u001b[39m, \u001b[39m1\u001b[39m))))\n\u001b[1;32m---> <a href='vscode-notebook-cell:/c%3A/Users/qja19/Desktop/%ED%83%84%EC%86%8C/machine_learning/lstm.ipynb#X13sZmlsZQ%3D%3D?line=55'>56</a>\u001b[0m total_mse \u001b[39m+\u001b[39m\u001b[39m=\u001b[39m mse(predictions, true_val\u001b[39m.\u001b[39;49mto(device))\n\u001b[0;32m     <a href='vscode-notebook-cell:/c%3A/Users/qja19/Desktop/%ED%83%84%EC%86%8C/machine_learning/lstm.ipynb#X13sZmlsZQ%3D%3D?line=56'>57</a>\u001b[0m total_mae \u001b[39m+\u001b[39m\u001b[39m=\u001b[39m mae(predictions, true_val\u001b[39m.\u001b[39mto(device))\n\u001b[0;32m     <a href='vscode-notebook-cell:/c%3A/Users/qja19/Desktop/%ED%83%84%EC%86%8C/machine_learning/lstm.ipynb#X13sZmlsZQ%3D%3D?line=57'>58</a>\u001b[0m \u001b[39mprint\u001b[39m(\u001b[39mf\u001b[39m\u001b[39m'\u001b[39m\u001b[39m\\n\u001b[39;00m\u001b[39mMSE: \u001b[39m\u001b[39m{\u001b[39;00mtotal_mse\u001b[39m \u001b[39m\u001b[39m/\u001b[39m\u001b[39m \u001b[39m\u001b[39mlen\u001b[39m(val_data)\u001b[39m}\u001b[39;00m\u001b[39m, MAE: \u001b[39m\u001b[39m{\u001b[39;00mtotal_mae\u001b[39m \u001b[39m\u001b[39m/\u001b[39m\u001b[39m \u001b[39m\u001b[39mlen\u001b[39m(val_data)\u001b[39m}\u001b[39;00m\u001b[39m'\u001b[39m)\n",
      "\u001b[1;31mAttributeError\u001b[0m: 'list' object has no attribute 'to'"
     ]
    },
    {
     "data": {
      "text/plain": [
       "<Figure size 2000x1500 with 0 Axes>"
      ]
     },
     "metadata": {},
     "output_type": "display_data"
    }
   ],
   "source": [
    "results = train(model, train_dl_list, optimizer, criterion, epochs)\n",
    "true_val, predictions = predict_plot(model, val_ds_list)"
   ]
  },
  {
   "cell_type": "code",
   "execution_count": null,
   "metadata": {},
   "outputs": [],
   "source": []
  }
 ],
 "metadata": {
  "kernelspec": {
   "display_name": "Python 3 (ipykernel)",
   "language": "python",
   "name": "python3"
  },
  "language_info": {
   "codemirror_mode": {
    "name": "ipython",
    "version": 3
   },
   "file_extension": ".py",
   "mimetype": "text/x-python",
   "name": "python",
   "nbconvert_exporter": "python",
   "pygments_lexer": "ipython3",
   "version": "3.9.18"
  },
  "vscode": {
   "interpreter": {
    "hash": "fe56894a06ef2437ff1ea5593c7ec177d92d09261e0a0125f5b53250947cba0e"
   }
  }
 },
 "nbformat": 4,
 "nbformat_minor": 2
}
