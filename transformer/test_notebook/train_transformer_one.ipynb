{
 "cells": [
  {
   "cell_type": "code",
   "execution_count": 1,
   "metadata": {},
   "outputs": [],
   "source": [
    "import warnings\n",
    "warnings.filterwarnings(action='ignore')\n",
    "import importlib\n",
    "import transformer_type\n",
    "from transformer_type.dataset import get_data\n",
    "import torch\n",
    "import pandas as pd\n",
    "\n",
    "if torch.cuda.is_available(): device = torch.device (\"cuda\")\n",
    "elif torch.backends.mps.is_available(): device = torch.device(\"mps\")\n",
    "else: device = torch.device('cpu')"
   ]
  },
  {
   "cell_type": "code",
   "execution_count": 2,
   "metadata": {},
   "outputs": [],
   "source": [
    "# params = [120, 1, 64, 300, 32, 512, 2, 1e-5, 0.1]\n",
    "params = {'input_window' : [120],\n",
    "         'output_window' : [120],\n",
    "         'batch_size' : [32],\n",
    "         'epochs' : [100],\n",
    "         'feature_size' : [32],\n",
    "         'd_ff' : [512],\n",
    "         'num_layers' : [2],\n",
    "         'lr' : [1e-4],\n",
    "         'device' : [device],\n",
    "         'dropout' : [0.1],\n",
    "         'is_save' : [True]}"
   ]
  },
  {
   "cell_type": "code",
   "execution_count": 3,
   "metadata": {},
   "outputs": [],
   "source": [
    "DATA_PATH = \"./data/kaggle_data/daily_data/\""
   ]
  },
  {
   "cell_type": "code",
   "execution_count": 4,
   "metadata": {},
   "outputs": [
    {
     "name": "stdout",
     "output_type": "stream",
     "text": [
      "PMJ_AEP 3684 651\n",
      "PMJ_DAYTON 3684 651\n",
      "PMJ_DOM 3514 609\n",
      "PMJ_DUQ 3610 633\n",
      "PMJ_PJME 4487 852\n",
      "PMJ_PJMW 4415 834\n"
     ]
    }
   ],
   "source": [
    "\n",
    "# make dataset\n",
    "\n",
    "def data_extract(df_dict, df, name, cols):\n",
    "       for col in cols:\n",
    "              df_dict[f\"{name}_{col}\"] = df.loc[df[col] != 0, col]\n",
    "       return df_dict\n",
    "\n",
    "train_data_list = []\n",
    "val_data_list = []\n",
    "\n",
    "\n",
    "# rom_df = pd.read_csv(DATA_PATH + \"romania_elec_daily.csv\")\n",
    "# rom_cols = ['Consumption']\n",
    "pmj_df = pd.read_csv(DATA_PATH + \"pjm_elec_daily.csv\")\n",
    "pmj_cols = ['AEP', 'DAYTON', 'DOM', 'DUQ', 'PJME', 'PJMW'] # 'DEOK', 'EKPC', 'PJM_Load', 'FE', 'NI', 'COMED',\n",
    "\n",
    "# ind_df = pd.read_csv(DATA_PATH + \"india_elec_daily.csv\")\n",
    "# ind_cols = ['Punjab', 'Haryana', 'Rajasthan', 'Delhi', 'UP',\n",
    "#        'Uttarakhand', 'HP', 'J&K', 'Chandigarh', 'Chhattisgarh', 'Gujarat',\n",
    "#        'MP', 'Maharashtra', 'Goa', 'DNH', 'Andhra Pradesh', 'Telangana',\n",
    "#        'Karnataka', 'Kerala', 'Tamil Nadu', 'Pondy', 'Bihar', 'Jharkhand',\n",
    "#        'Odisha', 'West Bengal', 'Sikkim', 'Arunachal Pradesh', 'Assam',\n",
    "#        'Manipur', 'Meghalaya', 'Mizoram', 'Nagaland', 'Tripura']\n",
    "# mal_df = pd.read_csv(DATA_PATH + \"malaysia_elec_daily.csv\")\n",
    "# mal_cols = ['load']\n",
    "# tet_df = pd.read_csv(DATA_PATH + \"tetouan_elec_daily.csv\")\n",
    "# tet_cols = ['PowerConsumption_Zone1', 'PowerConsumption_Zone2', 'PowerConsumption_Zone3']\n",
    "# steel_df = pd.read_csv(DATA_PATH + \"steel_industry_elec_daily.csv\")\n",
    "# steel_cols = ['Usage_kWh']\n",
    "\n",
    "df_dict = {}\n",
    "\n",
    "# df_dict = data_extract(df_dict, rom_df, 'ROM', rom_cols)\n",
    "df_dict = data_extract(df_dict, pmj_df, 'PMJ', pmj_cols)\n",
    "\n",
    "# df_dict = data_extract(df_dict, mal_df, 'MAL', mal_cols)\n",
    "# df_dict = data_extract(df_dict, ind_df, 'IND', ind_cols)\n",
    "# df_dict = data_extract(df_dict, tet_df, 'TET', tet_cols)\n",
    "# df_dict = data_extract(df_dict, steel_df, 'STEEL', steel_cols)\n",
    "\n",
    "for df_name in df_dict:\n",
    "    df = df_dict[df_name]\n",
    "    train_data, val_data, scaler = get_data(df, params['input_window'][0], 120)\n",
    "    train_data = train_data.to(device)\n",
    "    val_data = val_data.to(device)\n",
    "    print(df_name, len(train_data), len(val_data))\n",
    "    train_data_list.append((train_data, df_name, scaler))\n",
    "    val_data_list.append((val_data, df_name, scaler))\n",
    "\n"
   ]
  },
  {
   "cell_type": "code",
   "execution_count": 5,
   "metadata": {},
   "outputs": [
    {
     "data": {
      "text/plain": [
       "torch.Size([3684, 2, 240])"
      ]
     },
     "execution_count": 5,
     "metadata": {},
     "output_type": "execute_result"
    }
   ],
   "source": [
    "train_data_list[0][0].shape"
   ]
  },
  {
   "cell_type": "code",
   "execution_count": 6,
   "metadata": {},
   "outputs": [],
   "source": [
    "cnt = 0\n",
    "total = 1\n",
    "best_models, models = None, None\n",
    "for param in params:\n",
    "    total *= len(params[param])\n",
    "\n",
    "\n",
    "def select_param(params, param_names, selected_params=[], param_idx=0):\n",
    "    if param_idx == len(params):\n",
    "        global best_models, models\n",
    "        importlib.reload(transformer_type)\n",
    "        from transformer_type.transformer_multistep_type import one_train_start\n",
    "        torch.cuda.empty_cache()\n",
    "        global cnt\n",
    "        cnt += 1\n",
    "        print(f\"Start training ({cnt} / {total})\")\n",
    "        for param_name, params in zip(param_names, selected_params):\n",
    "            print(f\"{param_name} : {params}\", end= ' | ')\n",
    "        print()\n",
    "        selected_params = [train_data_list, val_data_list] + selected_params\n",
    "        best_models, models = one_train_start(*selected_params)\n",
    "        return\n",
    "    \n",
    "    param_name = param_names[param_idx]\n",
    "    param_list = params[param_name]\n",
    "    for parameter in param_list:\n",
    "        select_param(params, param_names, selected_params + [parameter], param_idx + 1)\n"
   ]
  },
  {
   "cell_type": "code",
   "execution_count": 7,
   "metadata": {},
   "outputs": [
    {
     "name": "stderr",
     "output_type": "stream",
     "text": [
      "Failed to detect the name of this notebook, you can set it manually with the WANDB_NOTEBOOK_NAME environment variable to enable code saving.\n"
     ]
    },
    {
     "name": "stdout",
     "output_type": "stream",
     "text": [
      "Start training (1 / 1)\n",
      "input_window : 120 | output_window : 120 | batch_size : 32 | epochs : 100 | feature_size : 32 | d_ff : 512 | num_layers : 2 | lr : 0.0001 | device : cuda | dropout : 0.1 | is_save : True | \n"
     ]
    },
    {
     "name": "stderr",
     "output_type": "stream",
     "text": [
      "\u001b[34m\u001b[1mwandb\u001b[0m: Currently logged in as: \u001b[33mqja1998\u001b[0m. Use \u001b[1m`wandb login --relogin`\u001b[0m to force relogin\n"
     ]
    },
    {
     "data": {
      "text/html": [
       "wandb version 0.16.1 is available!  To upgrade, please run:\n",
       " $ pip install wandb --upgrade"
      ],
      "text/plain": [
       "<IPython.core.display.HTML object>"
      ]
     },
     "metadata": {},
     "output_type": "display_data"
    },
    {
     "data": {
      "text/html": [
       "Tracking run with wandb version 0.15.12"
      ],
      "text/plain": [
       "<IPython.core.display.HTML object>"
      ]
     },
     "metadata": {},
     "output_type": "display_data"
    },
    {
     "data": {
      "text/html": [
       "Run data is saved locally in <code>c:\\Users\\qja19\\Desktop\\탄소\\machine_learning\\wandb\\run-20231224_134247-pai3q06y</code>"
      ],
      "text/plain": [
       "<IPython.core.display.HTML object>"
      ]
     },
     "metadata": {},
     "output_type": "display_data"
    },
    {
     "data": {
      "text/html": [
       "Syncing run <strong><a href='https://wandb.ai/qja1998/co2%20emission%20forecasting/runs/pai3q06y' target=\"_blank\">restful-rain-175</a></strong> to <a href='https://wandb.ai/qja1998/co2%20emission%20forecasting' target=\"_blank\">Weights & Biases</a> (<a href='https://wandb.me/run' target=\"_blank\">docs</a>)<br/>"
      ],
      "text/plain": [
       "<IPython.core.display.HTML object>"
      ]
     },
     "metadata": {},
     "output_type": "display_data"
    },
    {
     "data": {
      "text/html": [
       " View project at <a href='https://wandb.ai/qja1998/co2%20emission%20forecasting' target=\"_blank\">https://wandb.ai/qja1998/co2%20emission%20forecasting</a>"
      ],
      "text/plain": [
       "<IPython.core.display.HTML object>"
      ]
     },
     "metadata": {},
     "output_type": "display_data"
    },
    {
     "data": {
      "text/html": [
       " View run at <a href='https://wandb.ai/qja1998/co2%20emission%20forecasting/runs/pai3q06y' target=\"_blank\">https://wandb.ai/qja1998/co2%20emission%20forecasting/runs/pai3q06y</a>"
      ],
      "text/plain": [
       "<IPython.core.display.HTML object>"
      ]
     },
     "metadata": {},
     "output_type": "display_data"
    },
    {
     "name": "stderr",
     "output_type": "stream",
     "text": [
      "\u001b[34m\u001b[1mwandb\u001b[0m: \u001b[33mWARNING\u001b[0m Calling wandb.run.save without any arguments is deprecated.Changes to attributes are automatically persisted.\n",
      "100%|██████████| 100/100 [09:26<00:00,  5.66s/it]\n"
     ]
    }
   ],
   "source": [
    "select_param(params, list(params.keys()))"
   ]
  },
  {
   "cell_type": "code",
   "execution_count": null,
   "metadata": {},
   "outputs": [],
   "source": []
  },
  {
   "cell_type": "code",
   "execution_count": null,
   "metadata": {},
   "outputs": [],
   "source": []
  }
 ],
 "metadata": {
  "kernelspec": {
   "display_name": "co2_lstm",
   "language": "python",
   "name": "python3"
  },
  "language_info": {
   "codemirror_mode": {
    "name": "ipython",
    "version": 3
   },
   "file_extension": ".py",
   "mimetype": "text/x-python",
   "name": "python",
   "nbconvert_exporter": "python",
   "pygments_lexer": "ipython3",
   "version": "3.9.18"
  }
 },
 "nbformat": 4,
 "nbformat_minor": 2
}
