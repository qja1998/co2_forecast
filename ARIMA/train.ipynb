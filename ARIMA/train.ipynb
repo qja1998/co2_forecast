{
 "cells": [
  {
   "cell_type": "code",
   "execution_count": 1,
   "metadata": {},
   "outputs": [],
   "source": [
    "import warnings\n",
    "warnings.filterwarnings(action='ignore')\n",
    "import importlib\n",
    "import transformer_type\n",
    "from transformer_type.dataset import get_data\n",
    "import torch\n",
    "import pandas as pd\n",
    "\n",
    "if torch.cuda.is_available(): device = torch.device (\"cuda\")\n",
    "elif torch.backends.mps.is_available(): device = torch.device(\"mps\")\n",
    "else: device = torch.device('cpu')"
   ]
  },
  {
   "cell_type": "code",
   "execution_count": 2,
   "metadata": {},
   "outputs": [],
   "source": [
    "# params = [120, 1, 64, 300, 32, 512, 2, 1e-5, 0.1]\n",
    "params = {'input_window' : [120],\n",
    "         'pred_step' : [30],\n",
    "         'batch_size' : [32],\n",
    "         'epochs' : [100],\n",
    "         'feature_size' : [32],\n",
    "         'd_ff' : [256],\n",
    "         'num_layers' : [3],\n",
    "         'lr' : [1e-4],\n",
    "         'device' : [device],\n",
    "         'dropout' : [0.1],\n",
    "         'is_save' : [True]}"
   ]
  },
  {
   "cell_type": "code",
   "execution_count": 3,
   "metadata": {},
   "outputs": [],
   "source": [
    "DATA_PATH = \"./data/kaggle_data/daily_data/\""
   ]
  },
  {
   "cell_type": "code",
   "execution_count": 4,
   "metadata": {},
   "outputs": [
    {
     "name": "stdout",
     "output_type": "stream",
     "text": [
      "PMJ_AEP 3923 890\n",
      "PMJ_COMED 2096 434\n",
      "PMJ_DAYTON 3923 890\n",
      "PMJ_DEOK 1804 361\n",
      "PMJ_DOM 3753 848\n",
      "PMJ_DUQ 3849 872\n",
      "PMJ_FE 1975 404\n",
      "PMJ_NI 1828 367\n",
      "PMJ_PJME 4726 1091\n",
      "PMJ_PJMW 4654 1073\n"
     ]
    }
   ],
   "source": [
    "\n",
    "# make dataset\n",
    "\n",
    "def data_extract(df_dict, df, name, cols):\n",
    "       for col in cols:\n",
    "              df_dict[f\"{name}_{col}\"] = df.loc[df[col] != 0, col]\n",
    "       return df_dict\n",
    "\n",
    "train_data_list = []\n",
    "val_data_list = []\n",
    "\n",
    "pmj_df = pd.read_csv(DATA_PATH + \"pjm_elec_daily.csv\")\n",
    "pmj_cols = ['AEP', 'COMED', 'DAYTON', 'DEOK', 'DOM', 'DUQ', 'FE', 'NI', 'PJME', 'PJMW'] # 'PJM_Load', 'EKPC'\n",
    "\n",
    "df_dict = {}\n",
    "\n",
    "df_dict = data_extract(df_dict, pmj_df, 'PMJ', pmj_cols)\n",
    "\n",
    "for df_name in df_dict:\n",
    "    df = df_dict[df_name]\n",
    "    train_data, val_data, scaler = get_data(df, params['input_window'][0], 1)\n",
    "    train_data = train_data.to(device)\n",
    "    val_data = val_data.to(device)\n",
    "    print(df_name, len(train_data), len(val_data))\n",
    "    train_data_list.append((train_data, df_name, scaler))\n",
    "    val_data_list.append((val_data, df_name, scaler))"
   ]
  },
  {
   "cell_type": "code",
   "execution_count": null,
   "metadata": {},
   "outputs": [],
   "source": [
    "from statsmodels.tsa.arima_model import ARIMA\n",
    "\n",
    "model = ARIMA(series, order=(0,1,1))\n",
    "model_fit = model.fit(trend='c',full_output=True, disp=1)\n",
    "print(model_fit.summary())"
   ]
  },
  {
   "cell_type": "code",
   "execution_count": null,
   "metadata": {},
   "outputs": [],
   "source": []
  }
 ],
 "metadata": {
  "kernelspec": {
   "display_name": "co2_lstm",
   "language": "python",
   "name": "python3"
  },
  "language_info": {
   "codemirror_mode": {
    "name": "ipython",
    "version": 3
   },
   "file_extension": ".py",
   "mimetype": "text/x-python",
   "name": "python",
   "nbconvert_exporter": "python",
   "pygments_lexer": "ipython3",
   "version": "3.9.18"
  }
 },
 "nbformat": 4,
 "nbformat_minor": 2
}
