{
 "cells": [
  {
   "cell_type": "code",
   "execution_count": 1,
   "metadata": {},
   "outputs": [],
   "source": [
    "import warnings\n",
    "warnings.filterwarnings(action='ignore')\n",
    "\n",
    "import random\n",
    "import pandas as pd\n",
    "import numpy as np\n",
    "\n",
    "SEED = 43\n",
    "random.seed(SEED)\n",
    "np.random.seed(SEED)"
   ]
  },
  {
   "cell_type": "code",
   "execution_count": 2,
   "metadata": {},
   "outputs": [],
   "source": [
    "from dataset import get_data"
   ]
  },
  {
   "cell_type": "code",
   "execution_count": 3,
   "metadata": {},
   "outputs": [],
   "source": [
    "DATA_PATH = \"../data/kaggle_data/\""
   ]
  },
  {
   "cell_type": "code",
   "execution_count": 4,
   "metadata": {},
   "outputs": [
    {
     "name": "stdout",
     "output_type": "stream",
     "text": [
      "PMJ_AEP 4044 1011\n",
      "PMJ_COMED 2217 555\n",
      "PMJ_DAYTON 4044 1011\n",
      "PMJ_DEOK 1925 482\n",
      "PMJ_DOM 3874 969\n",
      "PMJ_DUQ 3970 993\n",
      "PMJ_FE 2096 525\n",
      "PMJ_NI 1949 488\n",
      "PMJ_PJME 4847 1212\n",
      "PMJ_PJMW 4775 1194\n"
     ]
    }
   ],
   "source": [
    "# make dataset\n",
    "\n",
    "def data_extract(df_dict, df, name, cols):\n",
    "       for col in cols:\n",
    "              df_dict[f\"{name}_{col}\"] = df.loc[df[col] != 0, col]\n",
    "       return df_dict\n",
    "\n",
    "train_data_list = []\n",
    "val_data_list = []\n",
    "\n",
    "pmj_df = pd.read_csv(DATA_PATH + \"pjm_elec_daily.csv\")\n",
    "pmj_cols = ['AEP', 'COMED', 'DAYTON', 'DEOK', 'DOM', 'DUQ', 'FE', 'NI', 'PJME', 'PJMW'] # 'PJM_Load', 'EKPC'\n",
    "\n",
    "df_dict = {}\n",
    "\n",
    "df_dict = data_extract(df_dict, pmj_df, 'PMJ', pmj_cols)\n",
    "\n",
    "for df_name in df_dict:\n",
    "    df = df_dict[df_name]\n",
    "    train_data, val_data, scaler = get_data(df)\n",
    "    print(df_name, len(train_data), len(val_data))\n",
    "    train_data_list.append((train_data, df_name, scaler))\n",
    "    val_data_list.append((val_data, df_name, scaler))"
   ]
  },
  {
   "cell_type": "code",
   "execution_count": 5,
   "metadata": {},
   "outputs": [],
   "source": [
    "tmp_data, t, scaler = train_data_list[0]"
   ]
  },
  {
   "cell_type": "code",
   "execution_count": 6,
   "metadata": {},
   "outputs": [],
   "source": [
    "tmp_data = pd.DataFrame(tmp_data)"
   ]
  },
  {
   "cell_type": "code",
   "execution_count": 7,
   "metadata": {},
   "outputs": [],
   "source": [
    "from util import plot_ac\n",
    "diff = [7]\n",
    "for tmp_data, t, scaler in train_data_list[:0]:\n",
    "    tmp_data = pd.DataFrame(tmp_data)\n",
    "    plot_ac(tmp_data, t, diff)"
   ]
  },
  {
   "cell_type": "code",
   "execution_count": 14,
   "metadata": {},
   "outputs": [
    {
     "name": "stdout",
     "output_type": "stream",
     "text": [
      "                               SARIMAX Results                                \n",
      "==============================================================================\n",
      "Dep. Variable:                      0   No. Observations:                 4044\n",
      "Model:                 ARIMA(0, 1, 1)   Log Likelihood                6514.642\n",
      "Date:                Thu, 02 May 2024   AIC                         -13025.285\n",
      "Time:                        15:52:28   BIC                         -13012.675\n",
      "Sample:                             0   HQIC                        -13020.817\n",
      "                               - 4044                                         \n",
      "Covariance Type:                  opg                                         \n",
      "==============================================================================\n",
      "                 coef    std err          z      P>|z|      [0.025      0.975]\n",
      "------------------------------------------------------------------------------\n",
      "ma.L1          0.3444      0.016     21.298      0.000       0.313       0.376\n",
      "sigma2         0.0023   4.57e-05     51.030      0.000       0.002       0.002\n",
      "===================================================================================\n",
      "Ljung-Box (L1) (Q):                  32.30   Jarque-Bera (JB):               196.68\n",
      "Prob(Q):                              0.00   Prob(JB):                         0.00\n",
      "Heteroskedasticity (H):               0.93   Skew:                             0.45\n",
      "Prob(H) (two-sided):                  0.21   Kurtosis:                         3.59\n",
      "===================================================================================\n",
      "\n",
      "Warnings:\n",
      "[1] Covariance matrix calculated using the outer product of gradients (complex-step).\n"
     ]
    }
   ],
   "source": [
    "from statsmodels.tsa.arima.model import ARIMA\n",
    "\n",
    "model = ARIMA(tmp_data, order=(0,1,1))\n",
    "model_fit = model.fit()\n",
    "print(model_fit.summary())"
   ]
  },
  {
   "cell_type": "code",
   "execution_count": 24,
   "metadata": {},
   "outputs": [],
   "source": [
    "forecast = model_fit.forecast(steps=100)"
   ]
  },
  {
   "cell_type": "code",
   "execution_count": 25,
   "metadata": {},
   "outputs": [
    {
     "data": {
      "text/plain": [
       "4044    0.595967\n",
       "4045    0.595967\n",
       "4046    0.595967\n",
       "4047    0.595967\n",
       "4048    0.595967\n",
       "          ...   \n",
       "4139    0.595967\n",
       "4140    0.595967\n",
       "4141    0.595967\n",
       "4142    0.595967\n",
       "4143    0.595967\n",
       "Name: predicted_mean, Length: 100, dtype: float64"
      ]
     },
     "execution_count": 25,
     "metadata": {},
     "output_type": "execute_result"
    }
   ],
   "source": [
    "forecast"
   ]
  },
  {
   "cell_type": "code",
   "execution_count": null,
   "metadata": {},
   "outputs": [],
   "source": []
  }
 ],
 "metadata": {
  "kernelspec": {
   "display_name": "co2_lstm",
   "language": "python",
   "name": "python3"
  },
  "language_info": {
   "codemirror_mode": {
    "name": "ipython",
    "version": 3
   },
   "file_extension": ".py",
   "mimetype": "text/x-python",
   "name": "python",
   "nbconvert_exporter": "python",
   "pygments_lexer": "ipython3",
   "version": "3.10.14"
  }
 },
 "nbformat": 4,
 "nbformat_minor": 2
}
